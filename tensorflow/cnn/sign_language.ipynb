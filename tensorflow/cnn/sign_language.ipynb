{
 "cells": [
  {
   "cell_type": "code",
   "execution_count": 2,
   "metadata": {},
   "outputs": [],
   "source": [
    "import tensorflow as tf\n",
    "import os\n",
    "import csv\n",
    "import numpy as np"
   ]
  },
  {
   "cell_type": "code",
   "execution_count": 3,
   "metadata": {},
   "outputs": [],
   "source": [
    "#Directory\n",
    "train_csv = \"C:\\Clarenti\\Data\\Project\\ML\\Program\\Dataset\\Sign/sign_mnist_train.csv\"\n",
    "test_csv = \"C:\\Clarenti\\Data\\Project\\ML\\Program\\Dataset\\Sign/sign_mnist_test.csv\""
   ]
  },
  {
   "cell_type": "code",
   "execution_count": 4,
   "metadata": {},
   "outputs": [],
   "source": [
    "x_train = []\n",
    "y_train = []\n",
    "\n",
    "with open(train_csv) as f:\n",
    "    csvfile =  csv.reader(f, delimiter=\",\")\n",
    " \n",
    "    next(csvfile, None)\n",
    "\n",
    "    for row in csvfile:\n",
    "        label = row[0]\n",
    "        data = row[1:] # >>> 784 features\n",
    "        dataarr = np.array(data).reshape((28, 28))\n",
    "\n",
    "        x_train.append(dataarr)\n",
    "        y_train.append(label)\n",
    "\n",
    "# convert the value of x_train and y_train to float type\n",
    "x_train = np.array(x_train).astype(float)\n",
    "y_train = np.array(y_train).astype(float)"
   ]
  },
  {
   "cell_type": "code",
   "execution_count": 5,
   "metadata": {},
   "outputs": [
    {
     "data": {
      "text/plain": [
       "(27455, 28, 28)"
      ]
     },
     "execution_count": 5,
     "metadata": {},
     "output_type": "execute_result"
    }
   ],
   "source": [
    "x_train.shape"
   ]
  },
  {
   "cell_type": "code",
   "execution_count": 6,
   "metadata": {},
   "outputs": [],
   "source": [
    "x_test = []\n",
    "y_test = []\n",
    "with open(test_csv) as f:\n",
    "    csvfile = csv.reader(f, delimiter=\",\")\n",
    "    next(csvfile, None)\n",
    "    for row in csvfile :\n",
    "        label = row[0]\n",
    "        data = row[1:]\n",
    "        dataarr = np.array(data).reshape((28, 28))\n",
    "\n",
    "        x_test.append(dataarr)\n",
    "        y_test.append(label)\n",
    "\n",
    "x_test = np.array(x_test).astype(float)\n",
    "y_test = np.array(y_test).astype(float)"
   ]
  },
  {
   "cell_type": "code",
   "execution_count": 7,
   "metadata": {},
   "outputs": [
    {
     "data": {
      "text/plain": [
       "(7172, 28, 28)"
      ]
     },
     "execution_count": 7,
     "metadata": {},
     "output_type": "execute_result"
    }
   ],
   "source": [
    "x_test.shape"
   ]
  },
  {
   "cell_type": "code",
   "execution_count": 8,
   "metadata": {},
   "outputs": [],
   "source": [
    "# Here i'm gonna wrap up the train and test that contains many features into 1\n",
    "\n",
    "x_train = np.expand_dims(x_train, axis=3) #>>> (27455, 28, 28) -> (27455, 28, 28, 1)\n",
    "x_test = np.expand_dims(x_test, axis=3) "
   ]
  },
  {
   "cell_type": "code",
   "execution_count": 9,
   "metadata": {},
   "outputs": [
    {
     "name": "stdout",
     "output_type": "stream",
     "text": [
      "(27455, 28, 28, 1)\n",
      "(27455,)\n"
     ]
    }
   ],
   "source": [
    "print(x_train.shape)\n",
    "print(y_train.shape)"
   ]
  },
  {
   "cell_type": "code",
   "execution_count": 10,
   "metadata": {},
   "outputs": [],
   "source": [
    "from keras.preprocessing.image import ImageDataGenerator\n",
    "\n",
    "train_datagen = ImageDataGenerator(rescale=1/255., rotation_range=40,\n",
    "    width_shift_range=0.2,\n",
    "    height_shift_range=0.2,\n",
    "    shear_range=0.2,\n",
    "    zoom_range=0.2,\n",
    "    horizontal_flip=True, \n",
    "    fill_mode='nearest',\n",
    "    validation_split=0.2)\n",
    "\n",
    "test_datagen = ImageDataGenerator(rescale=1/255.)"
   ]
  },
  {
   "cell_type": "code",
   "execution_count": 11,
   "metadata": {},
   "outputs": [],
   "source": [
    "from sklearn.model_selection import train_test_split\n",
    "\n",
    "# to make sure the proportion of classes is the same in both training and validation subsets by using stratified split\n",
    "x, x_val, y, y_val = train_test_split(x_train, y_train, test_size=0.2, stratify=y_train)\n",
    "x_train = np.concatenate((x, x_val))\n",
    "y_train = np.concatenate((y, y_val))"
   ]
  },
  {
   "cell_type": "code",
   "execution_count": 12,
   "metadata": {},
   "outputs": [],
   "source": [
    "train_generator = train_datagen.flow(\n",
    "    x_train,\n",
    "    y_train,\n",
    "    batch_size=32,\n",
    "    subset='training'\n",
    ")\n",
    "\n",
    "validation_generator = train_datagen.flow(\n",
    "    x_val,\n",
    "    y_val,\n",
    "    batch_size=32,\n",
    "    subset='validation'\n",
    ")\n",
    "\n",
    "test_generator = test_datagen.flow(\n",
    "    x_test,\n",
    "    y_test,\n",
    "    batch_size=32,\n",
    ")"
   ]
  },
  {
   "cell_type": "code",
   "execution_count": 13,
   "metadata": {},
   "outputs": [
    {
     "name": "stdout",
     "output_type": "stream",
     "text": [
      "Model: \"sequential\"\n",
      "_________________________________________________________________\n",
      " Layer (type)                Output Shape              Param #   \n",
      "=================================================================\n",
      " conv2d (Conv2D)             (None, 26, 26, 64)        640       \n",
      "                                                                 \n",
      " max_pooling2d (MaxPooling2D  (None, 13, 13, 64)       0         \n",
      " )                                                               \n",
      "                                                                 \n",
      " dropout (Dropout)           (None, 13, 13, 64)        0         \n",
      "                                                                 \n",
      " conv2d_1 (Conv2D)           (None, 11, 11, 128)       73856     \n",
      "                                                                 \n",
      " max_pooling2d_1 (MaxPooling  (None, 5, 5, 128)        0         \n",
      " 2D)                                                             \n",
      "                                                                 \n",
      " dropout_1 (Dropout)         (None, 5, 5, 128)         0         \n",
      "                                                                 \n",
      " flatten (Flatten)           (None, 3200)              0         \n",
      "                                                                 \n",
      " dense (Dense)               (None, 512)               1638912   \n",
      "                                                                 \n",
      " dense_1 (Dense)             (None, 26)                13338     \n",
      "                                                                 \n",
      "=================================================================\n",
      "Total params: 1,726,746\n",
      "Trainable params: 1,726,746\n",
      "Non-trainable params: 0\n",
      "_________________________________________________________________\n"
     ]
    }
   ],
   "source": [
    "model = tf.keras.models.Sequential(layers=[\n",
    "    tf.keras.layers.Conv2D(64, (3,3), activation='relu', input_shape=(28, 28, 1)),\n",
    "    tf.keras.layers.MaxPooling2D(2,2),\n",
    "    tf.keras.layers.Dropout(0.2),\n",
    "    tf.keras.layers.Conv2D(128, (3,3), activation='relu'),\n",
    "    tf.keras.layers.MaxPooling2D(2,2),\n",
    "    tf.keras.layers.Dropout(0.2),\n",
    "    # tf.keras.layers.Conv2D(128, (3,3), activation='relu'),\n",
    "    # tf.keras.layers.MaxPooling2D(2,2),\n",
    "    # tf.keras.layers.Dropout(0.2),\n",
    "    tf.keras.layers.Flatten(),\n",
    "    tf.keras.layers.Dense(512, activation='relu'),\n",
    "    tf.keras.layers.Dense(26, activation='softmax')\n",
    "])\n",
    "\n",
    "model.summary()"
   ]
  },
  {
   "cell_type": "code",
   "execution_count": 14,
   "metadata": {},
   "outputs": [],
   "source": [
    "model.compile(\n",
    "    optimizer='adam',\n",
    "    loss='sparse_categorical_crossentropy',\n",
    "    metrics=['accuracy']\n",
    ")"
   ]
  },
  {
   "cell_type": "code",
   "execution_count": 15,
   "metadata": {},
   "outputs": [
    {
     "name": "stdout",
     "output_type": "stream",
     "text": [
      "Epoch 1/25\n",
      "687/687 [==============================] - 59s 85ms/step - loss: 2.8695 - accuracy: 0.1321 - val_loss: 2.3716 - val_accuracy: 0.2732\n",
      "Epoch 2/25\n",
      "687/687 [==============================] - 59s 85ms/step - loss: 2.0721 - accuracy: 0.3414 - val_loss: 1.7418 - val_accuracy: 0.4472\n",
      "Epoch 3/25\n",
      "687/687 [==============================] - 62s 90ms/step - loss: 1.6338 - accuracy: 0.4686 - val_loss: 1.3327 - val_accuracy: 0.5683\n",
      "Epoch 4/25\n",
      "687/687 [==============================] - 65s 95ms/step - loss: 1.3717 - accuracy: 0.5502 - val_loss: 1.1942 - val_accuracy: 0.6175\n",
      "Epoch 5/25\n",
      "687/687 [==============================] - 50s 73ms/step - loss: 1.1992 - accuracy: 0.6013 - val_loss: 1.0229 - val_accuracy: 0.6530\n",
      "Epoch 6/25\n",
      "687/687 [==============================] - 50s 73ms/step - loss: 1.0649 - accuracy: 0.6435 - val_loss: 0.8832 - val_accuracy: 0.6867\n",
      "Epoch 7/25\n",
      "687/687 [==============================] - 50s 73ms/step - loss: 0.9741 - accuracy: 0.6731 - val_loss: 0.7913 - val_accuracy: 0.7587\n",
      "Epoch 8/25\n",
      "687/687 [==============================] - 56s 82ms/step - loss: 0.8920 - accuracy: 0.7018 - val_loss: 0.6443 - val_accuracy: 0.7933\n",
      "Epoch 9/25\n",
      "687/687 [==============================] - 62s 90ms/step - loss: 0.8443 - accuracy: 0.7165 - val_loss: 0.6363 - val_accuracy: 0.7842\n",
      "Epoch 10/25\n",
      "687/687 [==============================] - 62s 90ms/step - loss: 0.7898 - accuracy: 0.7351 - val_loss: 0.6387 - val_accuracy: 0.8051\n",
      "Epoch 11/25\n",
      "687/687 [==============================] - 61s 88ms/step - loss: 0.7377 - accuracy: 0.7541 - val_loss: 0.5276 - val_accuracy: 0.8306\n",
      "Epoch 12/25\n",
      "687/687 [==============================] - 63s 92ms/step - loss: 0.7053 - accuracy: 0.7646 - val_loss: 0.4961 - val_accuracy: 0.8488\n",
      "Epoch 13/25\n",
      "687/687 [==============================] - 64s 94ms/step - loss: 0.6836 - accuracy: 0.7709 - val_loss: 0.5449 - val_accuracy: 0.8188\n",
      "Epoch 14/25\n",
      "687/687 [==============================] - 63s 91ms/step - loss: 0.6476 - accuracy: 0.7806 - val_loss: 0.4516 - val_accuracy: 0.8534\n",
      "Epoch 15/25\n",
      "687/687 [==============================] - 62s 90ms/step - loss: 0.6170 - accuracy: 0.7928 - val_loss: 0.5064 - val_accuracy: 0.8270\n",
      "Epoch 16/25\n",
      "687/687 [==============================] - 65s 95ms/step - loss: 0.5875 - accuracy: 0.8030 - val_loss: 0.4945 - val_accuracy: 0.8515\n",
      "Epoch 17/25\n",
      "687/687 [==============================] - 63s 91ms/step - loss: 0.5765 - accuracy: 0.8064 - val_loss: 0.4329 - val_accuracy: 0.8443\n",
      "Epoch 18/25\n",
      "687/687 [==============================] - 67s 98ms/step - loss: 0.5602 - accuracy: 0.8089 - val_loss: 0.3902 - val_accuracy: 0.8807\n",
      "Epoch 19/25\n",
      "687/687 [==============================] - 63s 92ms/step - loss: 0.5411 - accuracy: 0.8181 - val_loss: 0.3692 - val_accuracy: 0.8871\n",
      "Epoch 20/25\n",
      "687/687 [==============================] - 67s 98ms/step - loss: 0.5475 - accuracy: 0.8135 - val_loss: 0.3717 - val_accuracy: 0.8734\n",
      "Epoch 21/25\n",
      "687/687 [==============================] - 61s 89ms/step - loss: 0.5106 - accuracy: 0.8268 - val_loss: 0.3939 - val_accuracy: 0.8761\n",
      "Epoch 22/25\n",
      "687/687 [==============================] - 61s 88ms/step - loss: 0.4968 - accuracy: 0.8330 - val_loss: 0.3624 - val_accuracy: 0.8770\n",
      "Epoch 23/25\n",
      "687/687 [==============================] - 62s 90ms/step - loss: 0.4873 - accuracy: 0.8371 - val_loss: 0.3444 - val_accuracy: 0.8953\n",
      "Epoch 24/25\n",
      "687/687 [==============================] - 63s 91ms/step - loss: 0.4838 - accuracy: 0.8388 - val_loss: 0.3455 - val_accuracy: 0.8871\n",
      "Epoch 25/25\n",
      "687/687 [==============================] - 65s 95ms/step - loss: 0.4710 - accuracy: 0.8391 - val_loss: 0.3052 - val_accuracy: 0.9062\n"
     ]
    }
   ],
   "source": [
    "hist = model.fit(train_generator, validation_data=validation_generator, epochs=25, verbose=1)"
   ]
  },
  {
   "cell_type": "code",
   "execution_count": 23,
   "metadata": {},
   "outputs": [],
   "source": [
    "acc = hist.history['accuracy']\n",
    "val_acc = hist.history['val_accuracy']\n",
    "\n",
    "loss = hist.history['loss']\n",
    "val_loss = hist.history['val_loss']"
   ]
  },
  {
   "cell_type": "code",
   "execution_count": 24,
   "metadata": {},
   "outputs": [
    {
     "ename": "NameError",
     "evalue": "name 'plt' is not defined",
     "output_type": "error",
     "traceback": [
      "\u001b[1;31m---------------------------------------------------------------------------\u001b[0m",
      "\u001b[1;31mNameError\u001b[0m                                 Traceback (most recent call last)",
      "\u001b[1;32m~\\AppData\\Local\\Temp/ipykernel_5652/537006213.py\u001b[0m in \u001b[0;36m<module>\u001b[1;34m\u001b[0m\n\u001b[1;32m----> 1\u001b[1;33m \u001b[0mplt\u001b[0m\u001b[1;33m.\u001b[0m\u001b[0mplot\u001b[0m\u001b[1;33m(\u001b[0m\u001b[0macc\u001b[0m\u001b[1;33m,\u001b[0m \u001b[1;34m'r'\u001b[0m\u001b[1;33m,\u001b[0m \u001b[0mlabel\u001b[0m\u001b[1;33m=\u001b[0m\u001b[1;34m'training accuracy'\u001b[0m\u001b[1;33m)\u001b[0m\u001b[1;33m\u001b[0m\u001b[1;33m\u001b[0m\u001b[0m\n\u001b[0m\u001b[0;32m      2\u001b[0m \u001b[0mplt\u001b[0m\u001b[1;33m.\u001b[0m\u001b[0mplot\u001b[0m\u001b[1;33m(\u001b[0m\u001b[0mval_acc\u001b[0m\u001b[1;33m,\u001b[0m \u001b[1;34m'b'\u001b[0m\u001b[1;33m,\u001b[0m \u001b[0mlabel\u001b[0m\u001b[1;33m=\u001b[0m\u001b[1;34m'validation accuracy'\u001b[0m\u001b[1;33m)\u001b[0m\u001b[1;33m\u001b[0m\u001b[1;33m\u001b[0m\u001b[0m\n\u001b[0;32m      3\u001b[0m \u001b[0mplt\u001b[0m\u001b[1;33m.\u001b[0m\u001b[0mtitle\u001b[0m\u001b[1;33m(\u001b[0m\u001b[1;34m'accuracy'\u001b[0m\u001b[1;33m)\u001b[0m\u001b[1;33m\u001b[0m\u001b[1;33m\u001b[0m\u001b[0m\n\u001b[0;32m      4\u001b[0m \u001b[0mplt\u001b[0m\u001b[1;33m.\u001b[0m\u001b[0mlegend\u001b[0m\u001b[1;33m(\u001b[0m\u001b[1;33m)\u001b[0m\u001b[1;33m\u001b[0m\u001b[1;33m\u001b[0m\u001b[0m\n\u001b[0;32m      5\u001b[0m \u001b[0mplt\u001b[0m\u001b[1;33m.\u001b[0m\u001b[0mfigure\u001b[0m\u001b[1;33m(\u001b[0m\u001b[1;33m)\u001b[0m\u001b[1;33m\u001b[0m\u001b[1;33m\u001b[0m\u001b[0m\n",
      "\u001b[1;31mNameError\u001b[0m: name 'plt' is not defined"
     ]
    }
   ],
   "source": [
    "plt.plot(acc, 'r', label='training accuracy')\n",
    "plt.plot(val_acc, 'b', label='validation accuracy')\n",
    "plt.title('accuracy')\n",
    "plt.legend()\n",
    "plt.figure()\n",
    "\n",
    "plt.plot(loss, 'r', label='training loss')\n",
    "plt.plot(val_loss, 'b', label='validation loss')\n",
    "plt.title('loss')\n",
    "plt.legend()\n",
    "# plt.figure()"
   ]
  },
  {
   "cell_type": "code",
   "execution_count": 18,
   "metadata": {},
   "outputs": [
    {
     "name": "stdout",
     "output_type": "stream",
     "text": [
      "225/225 [==============================] - 5s 21ms/step - loss: 0.1553 - accuracy: 0.9444\n"
     ]
    },
    {
     "data": {
      "text/plain": [
       "[0.15528327226638794, 0.944366991519928]"
      ]
     },
     "execution_count": 18,
     "metadata": {},
     "output_type": "execute_result"
    }
   ],
   "source": [
    "# evaluate\n",
    "model.evaluate(test_generator)"
   ]
  }
 ],
 "metadata": {
  "kernelspec": {
   "display_name": "Python 3.9.7 ('base')",
   "language": "python",
   "name": "python3"
  },
  "language_info": {
   "codemirror_mode": {
    "name": "ipython",
    "version": 3
   },
   "file_extension": ".py",
   "mimetype": "text/x-python",
   "name": "python",
   "nbconvert_exporter": "python",
   "pygments_lexer": "ipython3",
   "version": "3.9.7"
  },
  "orig_nbformat": 4,
  "vscode": {
   "interpreter": {
    "hash": "8dbf1d3937cd9af2ec7a992e3a66647a7d94267f9ee808a22d5489bdc356721a"
   }
  }
 },
 "nbformat": 4,
 "nbformat_minor": 2
}

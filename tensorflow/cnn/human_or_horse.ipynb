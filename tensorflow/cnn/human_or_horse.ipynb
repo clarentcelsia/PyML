{
 "cells": [
  {
   "cell_type": "code",
   "execution_count": null,
   "metadata": {},
   "outputs": [],
   "source": [
    "!wget --no-check-certificate \"https://storage.googleapis.com/laurencemoroney-blog.appspot.com/horse-or-human.zip\" -O \"C:\\Clarenti\\Data\\Project\\ML\\Program\\Dataset\\HorseOrHuman\\\\train\\horse-or-human.zip\"\n",
    "!wget --no-check-certificate \"https://storage.googleapis.com/laurencemoroney-blog.appspot.com/validation-horse-or-human.zip\" -O \"C:\\Clarenti\\Data\\Project\\ML\\Program\\Dataset\\HorseOrHuman\\\\validation\\validation-horse-or-human.zip\""
   ]
  },
  {
   "cell_type": "code",
   "execution_count": null,
   "metadata": {},
   "outputs": [],
   "source": [
    "import os\n",
    "import zipfile"
   ]
  },
  {
   "cell_type": "code",
   "execution_count": null,
   "metadata": {},
   "outputs": [],
   "source": [
    "base = 'C:\\Clarenti\\Data\\Project\\ML\\Program\\Dataset\\HorseOrHuman'\n",
    "train_local_zip = os.path.join(base, 'train')\n",
    "validation_local_zip = os.path.join(base, 'validation')"
   ]
  },
  {
   "cell_type": "code",
   "execution_count": null,
   "metadata": {},
   "outputs": [],
   "source": [
    "train_zip_ref = zipfile.ZipFile(train_local_zip, 'r')\n",
    "validation_zip_ref = zipfile.ZipFile(validation_local_zip, 'r')\n",
    "train_zip_ref.extractall(train_local_zip)\n",
    "validation_zip_ref.extractall(validation_local_zip)\n",
    "\n",
    "train_zip_ref.close()\n",
    "validation_zip_ref.close()"
   ]
  },
  {
   "cell_type": "markdown",
   "metadata": {},
   "source": [
    "## Dataset"
   ]
  },
  {
   "cell_type": "code",
   "execution_count": null,
   "metadata": {},
   "outputs": [],
   "source": [
    "import numpy as np\n",
    "import cv2"
   ]
  },
  {
   "cell_type": "code",
   "execution_count": null,
   "metadata": {},
   "outputs": [],
   "source": [
    "# Directory\n",
    "train_horse_dir = os.path.join(train_local_zip, \"horses\")\n",
    "train_human_dir = os.path.join(train_local_zip, \"humans\")\n",
    "\n",
    "valid_horse_dir = os.path.join(validation_local_zip, \"horses\")\n",
    "valid_human_dir = os.path.join(validation_local_zip, \"humans\")"
   ]
  },
  {
   "cell_type": "code",
   "execution_count": null,
   "metadata": {},
   "outputs": [],
   "source": [
    "print(len(os.listdir(train_horse_dir)))\n",
    "print(len(os.listdir(valid_horse_dir)))"
   ]
  },
  {
   "cell_type": "code",
   "execution_count": null,
   "metadata": {},
   "outputs": [],
   "source": [
    "train_horse_names = os.listdir(train_horse_dir)\n",
    "\n",
    "path = (os.path.join(train_horse_dir, train_horse_names[0]))\n",
    "\n",
    "assert os.path.isfile(path) # ensure that the path is a file\n",
    "\n",
    "with open(os.path.join(train_horse_dir, train_horse_names[0]), 'r') as img :\n",
    "    img = cv2.imread(img.name)\n",
    "    imgarr = np.asarray(img)\n",
    "    print(imgarr.shape)"
   ]
  },
  {
   "cell_type": "code",
   "execution_count": 77,
   "metadata": {},
   "outputs": [
    {
     "name": "stdout",
     "output_type": "stream",
     "text": [
      "Found 1027 images belonging to 2 classes.\n",
      "Found 256 images belonging to 2 classes.\n"
     ]
    }
   ],
   "source": [
    "from keras.preprocessing.image import ImageDataGenerator\n",
    "\n",
    "train_datagen = ImageDataGenerator(rescale=1/255.)\n",
    "validation_datagen = ImageDataGenerator(rescale=1/255.)\n",
    "\n",
    "train_generator = train_datagen.flow_from_directory(\n",
    "    train_local_zip,\n",
    "    target_size=(300, 300),\n",
    "    batch_size=25,\n",
    "    class_mode='binary'\n",
    ")\n",
    "\n",
    "validation_generator = validation_datagen.flow_from_directory(\n",
    "    validation_local_zip,\n",
    "    target_size=(300, 300),\n",
    "    batch_size=25,\n",
    "    class_mode='binary'\n",
    ")"
   ]
  },
  {
   "cell_type": "code",
   "execution_count": null,
   "metadata": {},
   "outputs": [],
   "source": [
    "import tensorflow as tf\n",
    "\n",
    "from keras.optimizers import Adam\n",
    "from keras.models import Model\n",
    "from keras.layers import Input, Conv2D, MaxPooling2D, Dropout, Flatten, Dense"
   ]
  },
  {
   "cell_type": "code",
   "execution_count": 102,
   "metadata": {},
   "outputs": [
    {
     "name": "stdout",
     "output_type": "stream",
     "text": [
      "Model: \"model_11\"\n",
      "_________________________________________________________________\n",
      " Layer (type)                Output Shape              Param #   \n",
      "=================================================================\n",
      " INPUT (InputLayer)          [(None, 300, 300, 3)]     0         \n",
      "                                                                 \n",
      " CONV1 (Conv2D)              (None, 298, 298, 32)      896       \n",
      "                                                                 \n",
      " POOL1 (MaxPooling2D)        (None, 149, 149, 32)      0         \n",
      "                                                                 \n",
      " CONV2 (Conv2D)              (None, 147, 147, 64)      18496     \n",
      "                                                                 \n",
      " POOL2 (MaxPooling2D)        (None, 73, 73, 64)        0         \n",
      "                                                                 \n",
      " dropout_21 (Dropout)        (None, 73, 73, 64)        0         \n",
      "                                                                 \n",
      " CONV3 (Conv2D)              (None, 71, 71, 128)       73856     \n",
      "                                                                 \n",
      " POOL3 (MaxPooling2D)        (None, 35, 35, 128)       0         \n",
      "                                                                 \n",
      " dropout_22 (Dropout)        (None, 35, 35, 128)       0         \n",
      "                                                                 \n",
      " flatten_11 (Flatten)        (None, 156800)            0         \n",
      "                                                                 \n",
      " dense_26 (Dense)            (None, 512)               80282112  \n",
      "                                                                 \n",
      " dense_27 (Dense)            (None, 128)               65664     \n",
      "                                                                 \n",
      " dense_28 (Dense)            (None, 1)                 129       \n",
      "                                                                 \n",
      "=================================================================\n",
      "Total params: 80,441,153\n",
      "Trainable params: 80,441,153\n",
      "Non-trainable params: 0\n",
      "_________________________________________________________________\n"
     ]
    }
   ],
   "source": [
    "input = Input(shape=(300, 300, 3), name=\"INPUT\")\n",
    "\n",
    "conv1 = Conv2D(32, (3,3), activation='relu', name=\"CONV1\")(input)\n",
    "pool1 = MaxPooling2D(pool_size=(2,2), name=\"POOL1\")(conv1)\n",
    "conv2 = Conv2D(64, (3,3), activation='relu', name=\"CONV2\")(pool1)\n",
    "pool2 = MaxPooling2D(pool_size=(2,2), name=\"POOL2\")(conv2)\n",
    "pool2 = Dropout(0.3)(pool2)\n",
    "conv3 = Conv2D(128, (3,3), activation='relu', name=\"CONV3\")(pool2)\n",
    "pool3 = MaxPooling2D(pool_size=(2,2), name=\"POOL3\")(conv3)\n",
    "pool3 = Dropout(0.3)(pool3)\n",
    "\n",
    "flatten = Flatten()(pool3)\n",
    "hidden = Dense(512, activation='relu')(flatten)\n",
    "hidden = Dense(128, activation='relu')(hidden)\n",
    "output = Dense(1, activation='sigmoid')(hidden)\n",
    "\n",
    "model = Model(inputs=input, outputs=output)\n",
    "model.summary()"
   ]
  },
  {
   "cell_type": "code",
   "execution_count": 103,
   "metadata": {},
   "outputs": [],
   "source": [
    "adam = Adam(learning_rate=0.001)\n",
    "model.compile(optimizer=adam, loss='binary_crossentropy', metrics='accuracy')"
   ]
  },
  {
   "cell_type": "code",
   "execution_count": 104,
   "metadata": {},
   "outputs": [
    {
     "name": "stdout",
     "output_type": "stream",
     "text": [
      "Epoch 1/10\n",
      "42/42 [==============================] - 163s 4s/step - loss: 2.1331 - accuracy: 0.5492 - val_loss: 0.6381 - val_accuracy: 0.7109\n",
      "Epoch 2/10\n",
      "42/42 [==============================] - 164s 4s/step - loss: 0.4123 - accuracy: 0.8247 - val_loss: 1.3546 - val_accuracy: 0.6953\n",
      "Epoch 3/10\n",
      "42/42 [==============================] - 156s 4s/step - loss: 0.0912 - accuracy: 0.9708 - val_loss: 2.1567 - val_accuracy: 0.7031\n",
      "Epoch 4/10\n",
      "42/42 [==============================] - 172s 4s/step - loss: 0.0464 - accuracy: 0.9844 - val_loss: 1.7480 - val_accuracy: 0.7656\n",
      "Epoch 5/10\n",
      "42/42 [==============================] - 166s 4s/step - loss: 0.1166 - accuracy: 0.9542 - val_loss: 2.3751 - val_accuracy: 0.7656\n",
      "Epoch 6/10\n",
      "42/42 [==============================] - 164s 4s/step - loss: 0.1350 - accuracy: 0.9572 - val_loss: 1.4000 - val_accuracy: 0.7969\n",
      "Epoch 7/10\n",
      "42/42 [==============================] - 161s 4s/step - loss: 0.0913 - accuracy: 0.9786 - val_loss: 1.4102 - val_accuracy: 0.7344\n",
      "Epoch 8/10\n",
      "42/42 [==============================] - 180s 4s/step - loss: 0.0279 - accuracy: 0.9873 - val_loss: 4.4419 - val_accuracy: 0.6758\n",
      "Epoch 9/10\n",
      "42/42 [==============================] - 179s 4s/step - loss: 0.0152 - accuracy: 0.9932 - val_loss: 3.2366 - val_accuracy: 0.7969\n",
      "Epoch 10/10\n",
      "42/42 [==============================] - 160s 4s/step - loss: 0.0011 - accuracy: 1.0000 - val_loss: 3.8127 - val_accuracy: 0.7539\n"
     ]
    }
   ],
   "source": [
    "hist = model.fit(train_generator, validation_data=validation_generator, epochs=10, verbose=1)"
   ]
  },
  {
   "cell_type": "markdown",
   "metadata": {},
   "source": [
    "## Predict"
   ]
  },
  {
   "cell_type": "code",
   "execution_count": 105,
   "metadata": {},
   "outputs": [],
   "source": [
    "%matplotlib inline\n",
    "\n",
    "import matplotlib.pyplot as plt\n",
    "\n",
    "acc = hist.history['accuracy']\n",
    "loss = hist.history['loss']\n",
    "val_acc = hist.history['val_accuracy']\n",
    "val_loss = hist.history['val_loss']"
   ]
  },
  {
   "cell_type": "code",
   "execution_count": 106,
   "metadata": {},
   "outputs": [
    {
     "data": {
      "image/png": "[encoded data removed]",
      "text/plain": [
       "<Figure size 432x288 with 1 Axes>"
      ]
     },
     "metadata": {
      "needs_background": "light"
     },
     "output_type": "display_data"
    }
   ],
   "source": [
    "epochs = range(len(acc))\n",
    "\n",
    "fig =  plt.figure(1)\n",
    "plt.plot(epochs, acc, 'r', label='Training Accuracy')\n",
    "plt.plot(epochs, val_acc, 'b', label='Validation Accuracy')\n",
    "plt.title('Accuracy')\n",
    "plt.legend()\n",
    "\n",
    "plt.show()\n"
   ]
  },
  {
   "cell_type": "code",
   "execution_count": null,
   "metadata": {},
   "outputs": [],
   "source": [
    "# from IPython.display import Image\n",
    "\n",
    "test_dir = \"C:\\Clarenti\\Data\\Project\\ML\\Program\\Dataset\\HorseOrHuman/test\"\n",
    "test_names = os.listdir(test_dir)\n",
    "\n",
    "with open(os.path.join(test_dir, test_names[0]), 'r') as f:\n",
    "    # display(Image(filename=f.name))\n",
    "\n",
    "    img = cv2.imread(f.name)\n",
    "    plt.imshow(img)\n",
    "\n",
    "    imgarr = np.asarray(img)\n",
    "    \n",
    "    imgarr = np.expand_dims(imgarr, axis=0)\n",
    "    imgs = np.vstack([imgarr]) # stack vertically\n",
    "    classes = model.predict(imgs, batch_size=10)\n",
    "    if classes[0]>0.5:\n",
    "        plt.title(\"Horse\")\n",
    "    else:\n",
    "        plt.title(\"Human\")\n",
    "    \n",
    "    plt.axis('off')"
   ]
  }
 ],
 "metadata": {
  "kernelspec": {
   "display_name": "Python 3.9.7 ('base')",
   "language": "python",
   "name": "python3"
  },
  "language_info": {
   "codemirror_mode": {
    "name": "ipython",
    "version": 3
   },
   "file_extension": ".py",
   "mimetype": "text/x-python",
   "name": "python",
   "nbconvert_exporter": "python",
   "pygments_lexer": "ipython3",
   "version": "3.9.7"
  },
  "orig_nbformat": 4,
  "vscode": {
   "interpreter": {
    "hash": "8dbf1d3937cd9af2ec7a992e3a66647a7d94267f9ee808a22d5489bdc356721a"
   }
  }
 },
 "nbformat": 4,
 "nbformat_minor": 2
}

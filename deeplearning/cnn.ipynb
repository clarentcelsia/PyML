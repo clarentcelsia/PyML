{
  "cells": [
    {
      "cell_type": "code",
      "execution_count": null,
      "metadata": {
        "colab": {
          "base_uri": "https://localhost:8080/",
          "height": 38
        },
        "id": "5ep5FBzW-OLU",
        "outputId": "38c1efdb-de61-44d9-dd69-6ebca3027351"
      },
      "outputs": [
        {
          "data": {
            "application/vnd.google.colaboratory.intrinsic+json": {
              "type": "string"
            },
            "text/plain": [
              "'2.8.2'"
            ]
          },
          "execution_count": 7,
          "metadata": {},
          "output_type": "execute_result"
        }
      ],
      "source": [
        "import tensorflow as tf\n",
        "tf.__version__\n"
      ]
    },
    {
      "cell_type": "code",
      "execution_count": null,
      "metadata": {
        "id": "357ie69l-hAs"
      },
      "outputs": [],
      "source": [
        "#Load dataset from tf\n",
        "#https://www.tensorflow.org/api_docs/python/tf/keras/datasets\n",
        "mnist = tf.keras.datasets.fashion_mnist"
      ]
    },
    {
      "cell_type": "markdown",
      "metadata": {
        "id": "9sddwdbw-_RV"
      },
      "source": [
        "Calling 'load_data()' on 'mnist' object\n",
        "will give 2 lists, which are training and testing fashion items and their labels."
      ]
    },
    {
      "cell_type": "code",
      "execution_count": null,
      "metadata": {
        "colab": {
          "base_uri": "https://localhost:8080/"
        },
        "id": "_Jv8FRnh_VzO",
        "outputId": "0f022c0e-a6b0-4f54-e776-46b4d367fbe6"
      },
      "outputs": [
        {
          "name": "stdout",
          "output_type": "stream",
          "text": [
            "Downloading data from https://storage.googleapis.com/tensorflow/tf-keras-datasets/train-labels-idx1-ubyte.gz\n",
            "32768/29515 [=================================] - 0s 0us/step\n",
            "40960/29515 [=========================================] - 0s 0us/step\n",
            "Downloading data from https://storage.googleapis.com/tensorflow/tf-keras-datasets/train-images-idx3-ubyte.gz\n",
            "26427392/26421880 [==============================] - 0s 0us/step\n",
            "26435584/26421880 [==============================] - 0s 0us/step\n",
            "Downloading data from https://storage.googleapis.com/tensorflow/tf-keras-datasets/t10k-labels-idx1-ubyte.gz\n",
            "16384/5148 [===============================================================================================] - 0s 0us/step\n",
            "Downloading data from https://storage.googleapis.com/tensorflow/tf-keras-datasets/t10k-images-idx3-ubyte.gz\n",
            "4423680/4422102 [==============================] - 0s 0us/step\n",
            "4431872/4422102 [==============================] - 0s 0us/step\n"
          ]
        }
      ],
      "source": [
        "#https://www.tensorflow.org/api_docs/python/tf/keras/datasets/fashion_mnist/load_data\n",
        "(X_train, y_train),(X_test, y_test) = mnist.load_data()"
      ]
    },
    {
      "cell_type": "markdown",
      "metadata": {
        "id": "g2kaz7cPA9Fx"
      },
      "source": [
        "Show training image datasets. \n",
        "  "
      ]
    },
    {
      "cell_type": "code",
      "execution_count": null,
      "metadata": {
        "colab": {
          "base_uri": "https://localhost:8080/",
          "height": 282
        },
        "id": "BXu8JwYfBN-E",
        "outputId": "e79645a2-aad1-4d5c-922a-2d96ebd471ca"
      },
      "outputs": [
        {
          "data": {
            "text/plain": [
              "<matplotlib.image.AxesImage at 0x7faf8ed696d0>"
            ]
          },
          "execution_count": 6,
          "metadata": {},
          "output_type": "execute_result"
        },
        {
          "data": {
            "image/png": "[encoded data removed]",
            "text/plain": [
              "<Figure size 432x288 with 1 Axes>"
            ]
          },
          "metadata": {
            "needs_background": "light"
          },
          "output_type": "display_data"
        }
      ],
      "source": [
        "from IPython.core.display import publish_display_data\n",
        "import numpy as np\n",
        "import matplotlib.pyplot as plt\n",
        "\n",
        "np.set_printoptions(linewidth = 200)\n",
        "#plt.imshow(X_train[0]) # >>> boot\n",
        "plt.imshow(X_train[1]) # >>> shirt"
      ]
    },
    {
      "cell_type": "markdown",
      "metadata": {
        "id": "9jqJHrO0CJpf"
      },
      "source": [
        "Print its value."
      ]
    },
    {
      "cell_type": "code",
      "execution_count": null,
      "metadata": {
        "colab": {
          "base_uri": "https://localhost:8080/"
        },
        "id": "ldpGZG1tCOo-",
        "outputId": "5bda2362-de22-418d-8e0f-34f94b4dbda1"
      },
      "outputs": [
        {
          "name": "stdout",
          "output_type": "stream",
          "text": [
            "[[  0   0   0   0   0   1   0   0   0   0  41 188 103  54  48  43  87 168 133  16   0   0   0   0   0   0   0   0]\n",
            " [  0   0   0   1   0   0   0  49 136 219 216 228 236 255 255 255 255 217 215 254 231 160  45   0   0   0   0   0]\n",
            " [  0   0   0   0   0  14 176 222 224 212 203 198 196 200 215 204 202 201 201 201 209 218 224 164   0   0   0   0]\n",
            " [  0   0   0   0   0 188 219 200 198 202 198 199 199 201 196 198 198 200 200 200 200 201 200 225  41   0   0   0]\n",
            " [  0   0   0   0  51 219 199 203 203 212 238 248 250 245 249 246 247 252 248 235 207 203 203 222 140   0   0   0]\n",
            " [  0   0   0   0 116 226 206 204 207 204 101  75  47  73  48  50  45  51  63 113 222 202 206 220 224   0   0   0]\n",
            " [  0   0   0   0 200 222 209 203 215 200   0  70  98   0 103  59  68  71  49   0 219 206 214 210 250  38   0   0]\n",
            " [  0   0   0   0 247 218 212 210 215 214   0 254 243 139 255 174 251 255 205   0 215 217 214 208 220  95   0   0]\n",
            " [  0   0   0  45 226 214 214 215 224 205   0  42  35  60  16  17  12  13  70   0 189 216 212 206 212 156   0   0]\n",
            " [  0   0   0 164 235 214 211 220 216 201  52  71  89  94  83  78  70  76  92  87 206 207 222 213 219 208   0   0]\n",
            " [  0   0   0 106 187 223 237 248 211 198 252 250 248 245 248 252 253 250 252 239 201 212 225 215 193 113   0   0]\n",
            " [  0   0   0   0   0  17  54 159 222 193 208 192 197 200 200 200 200 201 203 195 210 165   0   0   0   0   0   0]\n",
            " [  0   0   0   0   0   0   0  47 225 192 214 203 206 204 204 205 206 204 212 197 218 107   0   0   0   0   0   0]\n",
            " [  0   0   0   0   1   6   0  46 212 195 212 202 206 205 204 205 206 204 212 200 218  91   0   3   1   0   0   0]\n",
            " [  0   0   0   0   0   1   0  11 197 199 205 202 205 206 204 205 207 204 205 205 218  77   0   5   0   0   0   0]\n",
            " [  0   0   0   0   0   3   0   2 191 198 201 205 206 205 205 206 209 206 199 209 219  74   0   5   0   0   0   0]\n",
            " [  0   0   0   0   0   2   0   0 188 197 200 207 207 204 207 207 210 208 198 207 221  72   0   4   0   0   0   0]\n",
            " [  0   0   0   0   0   2   0   0 215 198 203 206 208 205 207 207 210 208 200 202 222  75   0   4   0   0   0   0]\n",
            " [  0   0   0   0   0   1   0   0 212 198 209 206 209 206 208 207 211 206 205 198 221  80   0   3   0   0   0   0]\n",
            " [  0   0   0   0   0   1   0   0 204 201 205 208 207 205 211 205 210 210 209 195 221  96   0   3   0   0   0   0]\n",
            " [  0   0   0   0   0   1   0   0 202 201 205 209 207 205 213 206 210 209 210 194 217 105   0   2   0   0   0   0]\n",
            " [  0   0   0   0   0   1   0   0 204 204 205 208 207 205 215 207 210 208 211 193 213 115   0   2   0   0   0   0]\n",
            " [  0   0   0   0   0   0   0   0 204 207 207 208 206 206 215 210 210 207 212 195 210 118   0   2   0   0   0   0]\n",
            " [  0   0   0   0   0   1   0   0 198 208 208 208 204 207 212 212 210 207 211 196 207 121   0   1   0   0   0   0]\n",
            " [  0   0   0   0   0   1   0   0 198 210 207 208 206 209 213 212 211 207 210 197 207 124   0   1   0   0   0   0]\n",
            " [  0   0   0   0   0   0   0   0 172 210 203 201 199 204 207 205 204 201 205 197 206 127   0   0   0   0   0   0]\n",
            " [  0   0   0   0   0   0   0   0 188 221 214 234 236 238 244 244 244 240 243 214 224 162   0   2   0   0   0   0]\n",
            " [  0   0   0   0   0   1   0   0 139 146 130 135 135 137 125 124 125 121 119 114 130  76   0   0   0   0   0   0]]\n"
          ]
        }
      ],
      "source": [
        "print(X_train[1])"
      ]
    },
    {
      "cell_type": "markdown",
      "metadata": {
        "id": "-wjMIPWEDaYD"
      },
      "source": [
        "The values are between 0 and 255. But we can **normalize** it to make the value as between 0 and 1 just by doing this:"
      ]
    },
    {
      "cell_type": "code",
      "execution_count": null,
      "metadata": {
        "id": "aUTuM4LfEFTh"
      },
      "outputs": [],
      "source": [
        "X_train = X_train/255.0\n",
        "X_test = X_test/255.0"
      ]
    },
    {
      "cell_type": "markdown",
      "metadata": {
        "id": "YTJMCVpaEYv6"
      },
      "source": [
        "Now the image value is between 0 and 1.\n",
        "Next, we build the model to train and test the data."
      ]
    },
    {
      "cell_type": "markdown",
      "metadata": {
        "id": "oVqOt2fZSszC"
      },
      "source": [
        "## Neural Network\n",
        "-----------------\n",
        "### What is Neural Network?\n",
        "In AI, it's a method that teaches computer to process data in a way that is inspired by human brain.\n",
        "Called as part of deep learning, that uses *interconnected nodes (neurons)* in a layered structure resembles the *human brain*.\n",
        "\n",
        "Things that makes neural network important:\n",
        "- Able to comprehend unstructured data and make *general* observation without explicit training. i.e with different input sentences that have similar meaning, neural network could know that both mean the same thing.\n",
        "- Can analyze more deeply and reveal new insights that might not have been trained before. For example, neural network analyses consumer purchases by comparing the buying patterns of numerous users can suggest new items that might interest a specific consumer.\n",
        "- Learn and improve over time based on user behavior. i.e Auto-correction.\n",
        "- Learn and model highly volatile data. i.e DNA analysis that has complex data.\n",
        "\n",
        "\n",
        "### How Neural Network Works?\n",
        "Inspired by human brain work, similarly, an Artificial Neural Network is made of *Artifical Neurons*. **Artifical Neurons** are software module, called **Nodes** while Artificial Neural Networks are software program.\n",
        "\n",
        "Neural Network has interconnected artifical neurons in 3 layers:\n",
        "1. **Input Layer** \n",
        "  > Process the input data, analyze or categorize it and pass it on to the next layer. The input data based on the number of feature, for ex. if you have matrix N x 2, this layer will take this 2 numbers of features as the input.\n",
        "2. **Hidden Layer**\n",
        "  > Artifical NN can have several hidden layers with millions of artificial neurons linked together. **Weight** is a number represents the connections between one node and another node.\n",
        "\n",
        "  > Analyzes the output from previous layer(Input layer) and pass it on to next layer.\n",
        "3. **Output Layer**\n",
        "  > Gives the final result.\n",
        "\n",
        "\n",
        "* *nb. Deep neural network need millions of example of training data.*\n",
        "\n",
        "### Deep Learning vs Machine Learning\n",
        "Machine learning methods require human input for the machine learning software to work sufficiently well. A data scientist manually determines the set of relevant features that the software must analyze. This limits the software’s ability, which makes it tedious to create and manage.\n",
        "\n",
        "On the other hand, in deep learning, the data scientist gives only raw data to the software. The deep learning network derives the features by itself and learns more independently. It can analyze unstructured datasets like text documents, identify which data attributes to prioritize, and solve more complex problems*.\n",
        "\n",
        "*https://aws.amazon.com/what-is/neural-network/\n",
        "\n",
        "\n"
      ]
    },
    {
      "cell_type": "code",
      "execution_count": null,
      "metadata": {
        "id": "atFUfpihEqSP"
      },
      "outputs": [],
      "source": [
        "from os import name\n",
        "import tensorflow as tf\n",
        "\n",
        "#Callback if the accuracy you want reach or not as your desire\n",
        "class MyCallback(tf.keras.callbacks.Callback):\n",
        "  def on_epoch_end(self, epoch, logs={}):\n",
        "    if(logs.get('loss'))<0.4:\n",
        "      print('\\nReached 60% accuracy so cancel the training')\n",
        "      self.model.stop_training = True\n",
        "\n",
        "# Define model\n",
        "callbacks=MyCallback()\n",
        "model = tf.keras.models.Sequential(\n",
        "    [tf.keras.layers.Flatten(),\n",
        "    tf.keras.layers.Dense(name=\"h1\", units=256, activation=tf.nn.relu), #hidden layer\n",
        "    tf.keras.layers.Dense(name=\"h2\", units=512, activation=tf.nn.relu),\n",
        "    tf.keras.layers.Dense(name=\"output\", units=10, activation=tf.nn.softmax)]) # min units (for last item) >= number of data"
      ]
    },
    {
      "cell_type": "markdown",
      "metadata": {
        "id": "pkPz71M9RIed"
      },
      "source": [
        "**Sequential**: defines a SEQUENCE of layers in Neural Network.\n",
        "\n",
        "**Flatten()**: Flatten matrix to one dimension. i.e [[2],[3],[4],[1]] -> [2,3,4,1]\n",
        "\n",
        "**Dense**: adds a layer of neurons. '128' is **units**: Positive integer, dimensionality of the output space (number of neurons).\n",
        "\n",
        "**Activation**: defines a layer of neurons what to do.\n",
        "\n",
        "**Relu**: If X>0 then X, else return 0 (only passes value 0 or greater to next layer).\n",
        "\n",
        "**Softmax**: Takes a set of value, pick the biggest value then set it '1' meanwhile others = 0. i.e [0.2, 0.1, 2.2]->[0,0,1]"
      ]
    },
    {
      "cell_type": "code",
      "execution_count": null,
      "metadata": {
        "colab": {
          "base_uri": "https://localhost:8080/"
        },
        "id": "_DZsQZdcCajU",
        "outputId": "fe4e8fec-ab15-4fd0-dd0f-c550c49c0f3a"
      },
      "outputs": [
        {
          "name": "stdout",
          "output_type": "stream",
          "text": [
            "Epoch 1/5\n",
            "1875/1875 [==============================] - 8s 4ms/step - loss: 0.4646 - accuracy: 0.8295\n",
            "Epoch 2/5\n",
            "1865/1875 [============================>.] - ETA: 0s - loss: 0.3546 - accuracy: 0.8694\n",
            "Reached 60% accuracy so cancel the training\n",
            "1875/1875 [==============================] - 8s 4ms/step - loss: 0.3545 - accuracy: 0.8694\n"
          ]
        },
        {
          "data": {
            "text/plain": [
              "<keras.callbacks.History at 0x7f77706f6850>"
            ]
          },
          "execution_count": 20,
          "metadata": {},
          "output_type": "execute_result"
        }
      ],
      "source": [
        "# Build the defined model\n",
        "model.compile(optimizer=tf.optimizers.Adam(),\n",
        "              loss='sparse_categorical_crossentropy', #sparse_categorical_crossentropy\n",
        "              metrics=['accuracy'])\n",
        "# Here we're gonna train the machine to recognize the images 5x\n",
        "model.fit(X_train, y_train, epochs=5, callbacks=[callbacks])\n",
        "#Check how much accuracy the machine can recognizes the images per epoch\n"
      ]
    },
    {
      "cell_type": "markdown",
      "metadata": {
        "id": "gs5hwVbhlXfg"
      },
      "source": [
        "In the 1st training, machine is already able to recognize the images with accuracy 82%.\n",
        "After 5th training/epoch, the accuracy that machine successfully recognize is 89%.\n",
        "\n",
        "Now let's test machine with test_data, can machine recognize test_image as well as it did with data it was trained on."
      ]
    },
    {
      "cell_type": "code",
      "execution_count": null,
      "metadata": {
        "colab": {
          "base_uri": "https://localhost:8080/"
        },
        "id": "cofmavupnYGm",
        "outputId": "a10e0414-47c1-4454-b595-480ee5ff6e9e"
      },
      "outputs": [
        {
          "name": "stdout",
          "output_type": "stream",
          "text": [
            "313/313 [==============================] - 1s 1ms/step - loss: 1.0784 - accuracy: 0.5592\n",
            "(10000, 10)\n"
          ]
        }
      ],
      "source": [
        "model.evaluate(X_test, y_test)\n",
        "\n",
        "result_pred = model.predict(X_test)\n",
        "print(result_pred.shape)"
      ]
    },
    {
      "cell_type": "markdown",
      "metadata": {
        "id": "6q-4u0IT58KG"
      },
      "source": [
        "# Convolutional Neural Network\n",
        "\n",
        "#### ANN vs. CNN\n",
        "\n",
        "**ANN**\n",
        "  uses weight (b) and activation to learn, weight get changed after each iteration through neuron.\n",
        "  Layers in ANN are rows of data  \n",
        "\n",
        "\n",
        "**CNN**\n",
        "  There is no weight / neuron in CNN, instead casts *multiple layers on images and do filtration on that image to get image inputs*. \n",
        "\n",
        "<img src=\"https://vitalflux.com/wp-content/uploads/2022/04/Typical-CNN-architecture.png\" width=500 />\n",
        "\n",
        "### Image Classification\n",
        "**ANN**\n",
        "- ANN, for example, let's say we want to distinguish between dog and cat, the features of them such as the width of their nose, the length of their ears must be explicitly provided as data points.\n",
        "- 2D images need to be converted to 1D vectors\n",
        "\n",
        "**CNN**\n",
        "- Meanwhile, for CNN, the features of a image can be extracted from image input, cnn is able to gather this on its own (automatically detects), instead of having to measure each individual feature.\n",
        "\n",
        "\n",
        "### Data Classification\n",
        "**ANN** is ideal for this classification"
      ]
    },
    {
      "cell_type": "markdown",
      "metadata": {
        "id": "Z6_VkAzT91ck"
      },
      "source": [
        "**Convolutional Layer**: Filtering, called kernels applied to input image.\n",
        "The output is a feature map (input image with filters applied).\n",
        "\n",
        "**Pooling (penyatuan) Layer**: reduces dimensions of the feature maps.\n",
        "2 types of pooling:\n",
        "1. Max Pooling: Pooling process that takes the maximum number from a feature map.\n",
        "2. Avg Poooling: Pooling process that calculates the mean value of a set of matrix.\n",
        "<img src=\"https://media.geeksforgeeks.org/wp-content/uploads/20190721025744/Screenshot-2019-07-21-at-2.57.13-AM.png\" width=500/>\n",
        "<img src=\"https://media.geeksforgeeks.org/wp-content/uploads/20190721030705/Screenshot-2019-07-21-at-3.05.56-AM.png\" width=500/>\n",
        "\n",
        "****stride** = distance between one set (window) of a matrix to another matrix.\n",
        "</br>\n",
        "</br>\n",
        "\n",
        "**Fully Connected Layer**: Takes the features from previous layers then do classification."
      ]
    },
    {
      "cell_type": "code",
      "execution_count": null,
      "metadata": {
        "colab": {
          "base_uri": "https://localhost:8080/"
        },
        "id": "k2TPkVfRRljW",
        "outputId": "7c177734-0514-4f8d-c7a3-48dea6cf2eaf"
      },
      "outputs": [
        {
          "name": "stdout",
          "output_type": "stream",
          "text": [
            "[[[[2]\n",
            "   [2]\n",
            "   [7]\n",
            "   [3]]\n",
            "\n",
            "  [[9]\n",
            "   [4]\n",
            "   [6]\n",
            "   [1]]\n",
            "\n",
            "  [[8]\n",
            "   [5]\n",
            "   [2]\n",
            "   [4]]\n",
            "\n",
            "  [[3]\n",
            "   [1]\n",
            "   [2]\n",
            "   [6]]]]\n",
            "[[9 7]\n",
            " [8 6]]\n"
          ]
        }
      ],
      "source": [
        "#MAXPOOLING2D & AVERAGE POOL\n",
        "import numpy as np\n",
        "import tensorflow as tf\n",
        "\n",
        "x = np.array([[2,2,7,3],\n",
        "              [9,4,6,1],\n",
        "              [8,5,2,4],\n",
        "              [3,1,2,6]])\n",
        "\n",
        "# 1: n-row 1st list, 4: n-col 1st list\n",
        "# 4: n-row in 1st, 1: n-col in 1st \n",
        "x = x.reshape(1,4,4,1) # 4D\n",
        "print(x)\n",
        "\n",
        "model = tf.keras.Sequential(layers=[tf.keras.layers.MaxPooling2D(\n",
        "    pool_size=(2,2), strides=(2,2), padding='valid'\n",
        ")])\n",
        "\n",
        "#result = model(x) # >>> [[9],[7],[8],[6]] OR\n",
        "output = model.predict(x)\n",
        "output = np.squeeze(output)\n",
        "print(output)\n",
        "\n"
      ]
    }
  ],
  "metadata": {
    "colab": {
      "collapsed_sections": [],
      "name": "CNN.ipynb",
      "provenance": []
    },
    "kernelspec": {
      "display_name": "Python 3",
      "name": "python3"
    },
    "language_info": {
      "name": "python"
    }
  },
  "nbformat": 4,
  "nbformat_minor": 0
}

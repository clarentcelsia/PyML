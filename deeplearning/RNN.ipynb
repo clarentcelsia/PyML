{
  "nbformat": 4,
  "nbformat_minor": 0,
  "metadata": {
    "colab": {
      "name": "rnn.ipynb",
      "provenance": [],
      "collapsed_sections": [
        "i9p5-_oZm5xC"
      ],
      "authorship_tag": "ABX9TyMlzJoxed1EanmF+ZzVDd7J",
      "include_colab_link": true
    },
    "kernelspec": {
      "name": "python3",
      "display_name": "Python 3"
    },
    "language_info": {
      "name": "python"
    }
  },
  "cells": [
    {
      "cell_type": "markdown",
      "metadata": {
        "id": "view-in-github",
        "colab_type": "text"
      },
      "source": [
        "<a href=\"https://colab.research.google.com/github/clarentcelsia/PyML/blob/master/deeplearning/RNN.ipynb\" target=\"_parent\"><img src=\"https://colab.research.google.com/assets/colab-badge.svg\" alt=\"Open In Colab\"/></a>"
      ]
    },
    {
      "cell_type": "markdown",
      "source": [
        "# RNN GRU LSTM \n",
        "\n",
        "RNN (Recurrent Neural Network) is type of ANN commonly used in Speech Recognition and NLP, because RNN recognize *data's sequential characteristic* and use patterns to predict next scenario. e.g Predict what will your next word to type.\n",
        "\n",
        "<img src=\"https://cdn.ttgtmedia.com/rms/onlineimages/enterpriseai-recurrent_neural_network-f_mobile.png\" width=350> </img>\n",
        "\n",
        "LSTM and GRU is a RNN architecture.\n",
        "\n",
        "GRU has 2 gates which are reset and update while LSTM has 3 gates, input, output, and forget.\n",
        "\n",
        "GRU is less complex than LSTM because it only has 2 gates, less than LSTM. Ideally used for small dataset, while LSTM for larger dataset."
      ],
      "metadata": {
        "id": "i9p5-_oZm5xC"
      }
    },
    {
      "cell_type": "code",
      "source": [
        "!nvidia-smi"
      ],
      "metadata": {
        "id": "KKsh16n0UmaK"
      },
      "execution_count": null,
      "outputs": []
    },
    {
      "cell_type": "markdown",
      "source": [
        "# Predict The Stock using RNN"
      ],
      "metadata": {
        "id": "5Yc81fPpB7d4"
      }
    },
    {
      "cell_type": "code",
      "source": [
        "import numpy as np\n",
        "import pandas as pd\n",
        "import seaborn as sns\n",
        "import matplotlib.pyplot as plt"
      ],
      "metadata": {
        "id": "0gZ5YIInk4xs"
      },
      "execution_count": 1,
      "outputs": []
    },
    {
      "cell_type": "code",
      "execution_count": 2,
      "metadata": {
        "id": "YWZzfaUnmFNm",
        "colab": {
          "base_uri": "https://localhost:8080/"
        },
        "outputId": "870b8f23-8b60-4a11-e5df-df2af7d90333"
      },
      "outputs": [
        {
          "output_type": "stream",
          "name": "stdout",
          "text": [
            "Mounted at /content/drive\n"
          ]
        }
      ],
      "source": [
        "# connect to drive\n",
        "\n",
        "from google.colab import drive\n",
        "drive.mount('/content/drive')"
      ]
    },
    {
      "cell_type": "code",
      "source": [
        "df_train = pd.read_csv(\"/content/drive/MyDrive/Proa-ML/Week7/assignment/Google_Stock_Price_Train.csv\", parse_dates=['Date'], index_col='Date')\n",
        "df_test = pd.read_csv(\"/content/drive/MyDrive/Proa-ML/Week7/assignment/Google_Stock_Price_Test.csv\", parse_dates=['Date'], index_col='Date')"
      ],
      "metadata": {
        "id": "cq1VUpgWkpxJ"
      },
      "execution_count": 3,
      "outputs": []
    },
    {
      "cell_type": "code",
      "source": [
        "df_train.head(5)"
      ],
      "metadata": {
        "colab": {
          "base_uri": "https://localhost:8080/",
          "height": 0
        },
        "id": "CDupMYnNmOSe",
        "outputId": "8ac76da8-3767-4627-864e-d1f2247a997f"
      },
      "execution_count": 4,
      "outputs": [
        {
          "output_type": "execute_result",
          "data": {
            "text/plain": [
              "              Open    High     Low   Close      Volume\n",
              "Date                                                  \n",
              "2012-01-03  325.25  332.83  324.97  663.59   7,380,500\n",
              "2012-01-04  331.27  333.87  329.08  666.45   5,749,400\n",
              "2012-01-05  329.83  330.75  326.89  657.21   6,590,300\n",
              "2012-01-06  328.34  328.77  323.68  648.24   5,405,900\n",
              "2012-01-09  322.04  322.29  309.46  620.76  11,688,800"
            ],
            "text/html": [
              "\n",
              "  <div id=\"df-680a964c-0658-4c5b-b95c-d278b4ac35d1\">\n",
              "    <div class=\"colab-df-container\">\n",
              "      <div>\n",
              "<style scoped>\n",
              "    .dataframe tbody tr th:only-of-type {\n",
              "        vertical-align: middle;\n",
              "    }\n",
              "\n",
              "    .dataframe tbody tr th {\n",
              "        vertical-align: top;\n",
              "    }\n",
              "\n",
              "    .dataframe thead th {\n",
              "        text-align: right;\n",
              "    }\n",
              "</style>\n",
              "<table border=\"1\" class=\"dataframe\">\n",
              "  <thead>\n",
              "    <tr style=\"text-align: right;\">\n",
              "      <th></th>\n",
              "      <th>Open</th>\n",
              "      <th>High</th>\n",
              "      <th>Low</th>\n",
              "      <th>Close</th>\n",
              "      <th>Volume</th>\n",
              "    </tr>\n",
              "    <tr>\n",
              "      <th>Date</th>\n",
              "      <th></th>\n",
              "      <th></th>\n",
              "      <th></th>\n",
              "      <th></th>\n",
              "      <th></th>\n",
              "    </tr>\n",
              "  </thead>\n",
              "  <tbody>\n",
              "    <tr>\n",
              "      <th>2012-01-03</th>\n",
              "      <td>325.25</td>\n",
              "      <td>332.83</td>\n",
              "      <td>324.97</td>\n",
              "      <td>663.59</td>\n",
              "      <td>7,380,500</td>\n",
              "    </tr>\n",
              "    <tr>\n",
              "      <th>2012-01-04</th>\n",
              "      <td>331.27</td>\n",
              "      <td>333.87</td>\n",
              "      <td>329.08</td>\n",
              "      <td>666.45</td>\n",
              "      <td>5,749,400</td>\n",
              "    </tr>\n",
              "    <tr>\n",
              "      <th>2012-01-05</th>\n",
              "      <td>329.83</td>\n",
              "      <td>330.75</td>\n",
              "      <td>326.89</td>\n",
              "      <td>657.21</td>\n",
              "      <td>6,590,300</td>\n",
              "    </tr>\n",
              "    <tr>\n",
              "      <th>2012-01-06</th>\n",
              "      <td>328.34</td>\n",
              "      <td>328.77</td>\n",
              "      <td>323.68</td>\n",
              "      <td>648.24</td>\n",
              "      <td>5,405,900</td>\n",
              "    </tr>\n",
              "    <tr>\n",
              "      <th>2012-01-09</th>\n",
              "      <td>322.04</td>\n",
              "      <td>322.29</td>\n",
              "      <td>309.46</td>\n",
              "      <td>620.76</td>\n",
              "      <td>11,688,800</td>\n",
              "    </tr>\n",
              "  </tbody>\n",
              "</table>\n",
              "</div>\n",
              "      <button class=\"colab-df-convert\" onclick=\"convertToInteractive('df-680a964c-0658-4c5b-b95c-d278b4ac35d1')\"\n",
              "              title=\"Convert this dataframe to an interactive table.\"\n",
              "              style=\"display:none;\">\n",
              "        \n",
              "  <svg xmlns=\"http://www.w3.org/2000/svg\" height=\"24px\"viewBox=\"0 0 24 24\"\n",
              "       width=\"24px\">\n",
              "    <path d=\"M0 0h24v24H0V0z\" fill=\"none\"/>\n",
              "    <path d=\"M18.56 5.44l.94 2.06.94-2.06 2.06-.94-2.06-.94-.94-2.06-.94 2.06-2.06.94zm-11 1L8.5 8.5l.94-2.06 2.06-.94-2.06-.94L8.5 2.5l-.94 2.06-2.06.94zm10 10l.94 2.06.94-2.06 2.06-.94-2.06-.94-.94-2.06-.94 2.06-2.06.94z\"/><path d=\"M17.41 7.96l-1.37-1.37c-.4-.4-.92-.59-1.43-.59-.52 0-1.04.2-1.43.59L10.3 9.45l-7.72 7.72c-.78.78-.78 2.05 0 2.83L4 21.41c.39.39.9.59 1.41.59.51 0 1.02-.2 1.41-.59l7.78-7.78 2.81-2.81c.8-.78.8-2.07 0-2.86zM5.41 20L4 18.59l7.72-7.72 1.47 1.35L5.41 20z\"/>\n",
              "  </svg>\n",
              "      </button>\n",
              "      \n",
              "  <style>\n",
              "    .colab-df-container {\n",
              "      display:flex;\n",
              "      flex-wrap:wrap;\n",
              "      gap: 12px;\n",
              "    }\n",
              "\n",
              "    .colab-df-convert {\n",
              "      background-color: #E8F0FE;\n",
              "      border: none;\n",
              "      border-radius: 50%;\n",
              "      cursor: pointer;\n",
              "      display: none;\n",
              "      fill: #1967D2;\n",
              "      height: 32px;\n",
              "      padding: 0 0 0 0;\n",
              "      width: 32px;\n",
              "    }\n",
              "\n",
              "    .colab-df-convert:hover {\n",
              "      background-color: #E2EBFA;\n",
              "      box-shadow: 0px 1px 2px rgba(60, 64, 67, 0.3), 0px 1px 3px 1px rgba(60, 64, 67, 0.15);\n",
              "      fill: #174EA6;\n",
              "    }\n",
              "\n",
              "    [theme=dark] .colab-df-convert {\n",
              "      background-color: #3B4455;\n",
              "      fill: #D2E3FC;\n",
              "    }\n",
              "\n",
              "    [theme=dark] .colab-df-convert:hover {\n",
              "      background-color: #434B5C;\n",
              "      box-shadow: 0px 1px 3px 1px rgba(0, 0, 0, 0.15);\n",
              "      filter: drop-shadow(0px 1px 2px rgba(0, 0, 0, 0.3));\n",
              "      fill: #FFFFFF;\n",
              "    }\n",
              "  </style>\n",
              "\n",
              "      <script>\n",
              "        const buttonEl =\n",
              "          document.querySelector('#df-680a964c-0658-4c5b-b95c-d278b4ac35d1 button.colab-df-convert');\n",
              "        buttonEl.style.display =\n",
              "          google.colab.kernel.accessAllowed ? 'block' : 'none';\n",
              "\n",
              "        async function convertToInteractive(key) {\n",
              "          const element = document.querySelector('#df-680a964c-0658-4c5b-b95c-d278b4ac35d1');\n",
              "          const dataTable =\n",
              "            await google.colab.kernel.invokeFunction('convertToInteractive',\n",
              "                                                     [key], {});\n",
              "          if (!dataTable) return;\n",
              "\n",
              "          const docLinkHtml = 'Like what you see? Visit the ' +\n",
              "            '<a target=\"_blank\" href=https://colab.research.google.com/notebooks/data_table.ipynb>data table notebook</a>'\n",
              "            + ' to learn more about interactive tables.';\n",
              "          element.innerHTML = '';\n",
              "          dataTable['output_type'] = 'display_data';\n",
              "          await google.colab.output.renderOutput(dataTable, element);\n",
              "          const docLink = document.createElement('div');\n",
              "          docLink.innerHTML = docLinkHtml;\n",
              "          element.appendChild(docLink);\n",
              "        }\n",
              "      </script>\n",
              "    </div>\n",
              "  </div>\n",
              "  "
            ]
          },
          "metadata": {},
          "execution_count": 4
        }
      ]
    },
    {
      "cell_type": "code",
      "source": [
        "# Check Training Set Info\n",
        "df_train.info()"
      ],
      "metadata": {
        "colab": {
          "base_uri": "https://localhost:8080/"
        },
        "id": "GQaVN3B3mdTz",
        "outputId": "f4c845e2-41ce-4c0c-c658-0347c1b6ff83"
      },
      "execution_count": 5,
      "outputs": [
        {
          "output_type": "stream",
          "name": "stdout",
          "text": [
            "<class 'pandas.core.frame.DataFrame'>\n",
            "DatetimeIndex: 1258 entries, 2012-01-03 to 2016-12-30\n",
            "Data columns (total 5 columns):\n",
            " #   Column  Non-Null Count  Dtype  \n",
            "---  ------  --------------  -----  \n",
            " 0   Open    1258 non-null   float64\n",
            " 1   High    1258 non-null   float64\n",
            " 2   Low     1258 non-null   float64\n",
            " 3   Close   1258 non-null   object \n",
            " 4   Volume  1258 non-null   object \n",
            "dtypes: float64(3), object(2)\n",
            "memory usage: 59.0+ KB\n"
          ]
        }
      ]
    },
    {
      "cell_type": "code",
      "source": [
        "# Convert Close and Volume to float type\n",
        "# df_train['Close'] = pd.to_numeric(df_train['Close'].astype(str).str.replace(\",\",\"\"), downcast='float') float32\n",
        "\n",
        "df_train['Close'] = df_train['Close'].astype(str).str.replace(\",\",\"\").astype(float)\n",
        "df_train['Volume'] = df_train['Volume'].astype(str).str.replace(\",\",\"\").astype(float)\n",
        "print(df_train.info())\n",
        "\n",
        "df_test['Close'] = df_test['Close'].astype(str).str.replace(\",\",\"\").astype(float)\n",
        "df_test['Volume'] = df_test['Volume'].astype(str).str.replace(\",\",\"\").astype(float)\n",
        "print(df_test.info())"
      ],
      "metadata": {
        "colab": {
          "base_uri": "https://localhost:8080/"
        },
        "id": "rTE62gBtvFiw",
        "outputId": "7112a4c8-50ff-453e-9e46-dee3d18ff8cd"
      },
      "execution_count": 6,
      "outputs": [
        {
          "output_type": "stream",
          "name": "stdout",
          "text": [
            "<class 'pandas.core.frame.DataFrame'>\n",
            "DatetimeIndex: 1258 entries, 2012-01-03 to 2016-12-30\n",
            "Data columns (total 5 columns):\n",
            " #   Column  Non-Null Count  Dtype  \n",
            "---  ------  --------------  -----  \n",
            " 0   Open    1258 non-null   float64\n",
            " 1   High    1258 non-null   float64\n",
            " 2   Low     1258 non-null   float64\n",
            " 3   Close   1258 non-null   float64\n",
            " 4   Volume  1258 non-null   float64\n",
            "dtypes: float64(5)\n",
            "memory usage: 59.0 KB\n",
            "None\n",
            "<class 'pandas.core.frame.DataFrame'>\n",
            "DatetimeIndex: 20 entries, 2017-01-03 to 2017-01-31\n",
            "Data columns (total 5 columns):\n",
            " #   Column  Non-Null Count  Dtype  \n",
            "---  ------  --------------  -----  \n",
            " 0   Open    20 non-null     float64\n",
            " 1   High    20 non-null     float64\n",
            " 2   Low     20 non-null     float64\n",
            " 3   Close   20 non-null     float64\n",
            " 4   Volume  20 non-null     float64\n",
            "dtypes: float64(5)\n",
            "memory usage: 960.0 bytes\n",
            "None\n"
          ]
        }
      ]
    },
    {
      "cell_type": "code",
      "source": [
        "df_train.describe()"
      ],
      "metadata": {
        "colab": {
          "base_uri": "https://localhost:8080/",
          "height": 0
        },
        "id": "3ozvuHrCnCp4",
        "outputId": "f3df8714-eb7b-4700-a4e5-f67b55c43b4c"
      },
      "execution_count": 7,
      "outputs": [
        {
          "output_type": "execute_result",
          "data": {
            "text/plain": [
              "              Open         High          Low        Close        Volume\n",
              "count  1258.000000  1258.000000  1258.000000  1258.000000  1.258000e+03\n",
              "mean    533.709833   537.880223   529.007409   712.669666  3.158107e+06\n",
              "std     151.904442   153.008811   150.552807   164.752591  2.273726e+06\n",
              "min     279.120000   281.210000   277.220000   491.200000  7.900000e+03\n",
              "25%     404.115000   406.765000   401.765000   576.740000  1.621700e+06\n",
              "50%     537.470000   540.750000   532.990000   695.675000  2.566150e+06\n",
              "75%     654.922500   662.587500   644.800000   782.105000  4.122500e+06\n",
              "max     816.680000   816.680000   805.140000  1216.830000  2.497790e+07"
            ],
            "text/html": [
              "\n",
              "  <div id=\"df-998193b2-2f53-4de5-abca-1bc639216614\">\n",
              "    <div class=\"colab-df-container\">\n",
              "      <div>\n",
              "<style scoped>\n",
              "    .dataframe tbody tr th:only-of-type {\n",
              "        vertical-align: middle;\n",
              "    }\n",
              "\n",
              "    .dataframe tbody tr th {\n",
              "        vertical-align: top;\n",
              "    }\n",
              "\n",
              "    .dataframe thead th {\n",
              "        text-align: right;\n",
              "    }\n",
              "</style>\n",
              "<table border=\"1\" class=\"dataframe\">\n",
              "  <thead>\n",
              "    <tr style=\"text-align: right;\">\n",
              "      <th></th>\n",
              "      <th>Open</th>\n",
              "      <th>High</th>\n",
              "      <th>Low</th>\n",
              "      <th>Close</th>\n",
              "      <th>Volume</th>\n",
              "    </tr>\n",
              "  </thead>\n",
              "  <tbody>\n",
              "    <tr>\n",
              "      <th>count</th>\n",
              "      <td>1258.000000</td>\n",
              "      <td>1258.000000</td>\n",
              "      <td>1258.000000</td>\n",
              "      <td>1258.000000</td>\n",
              "      <td>1.258000e+03</td>\n",
              "    </tr>\n",
              "    <tr>\n",
              "      <th>mean</th>\n",
              "      <td>533.709833</td>\n",
              "      <td>537.880223</td>\n",
              "      <td>529.007409</td>\n",
              "      <td>712.669666</td>\n",
              "      <td>3.158107e+06</td>\n",
              "    </tr>\n",
              "    <tr>\n",
              "      <th>std</th>\n",
              "      <td>151.904442</td>\n",
              "      <td>153.008811</td>\n",
              "      <td>150.552807</td>\n",
              "      <td>164.752591</td>\n",
              "      <td>2.273726e+06</td>\n",
              "    </tr>\n",
              "    <tr>\n",
              "      <th>min</th>\n",
              "      <td>279.120000</td>\n",
              "      <td>281.210000</td>\n",
              "      <td>277.220000</td>\n",
              "      <td>491.200000</td>\n",
              "      <td>7.900000e+03</td>\n",
              "    </tr>\n",
              "    <tr>\n",
              "      <th>25%</th>\n",
              "      <td>404.115000</td>\n",
              "      <td>406.765000</td>\n",
              "      <td>401.765000</td>\n",
              "      <td>576.740000</td>\n",
              "      <td>1.621700e+06</td>\n",
              "    </tr>\n",
              "    <tr>\n",
              "      <th>50%</th>\n",
              "      <td>537.470000</td>\n",
              "      <td>540.750000</td>\n",
              "      <td>532.990000</td>\n",
              "      <td>695.675000</td>\n",
              "      <td>2.566150e+06</td>\n",
              "    </tr>\n",
              "    <tr>\n",
              "      <th>75%</th>\n",
              "      <td>654.922500</td>\n",
              "      <td>662.587500</td>\n",
              "      <td>644.800000</td>\n",
              "      <td>782.105000</td>\n",
              "      <td>4.122500e+06</td>\n",
              "    </tr>\n",
              "    <tr>\n",
              "      <th>max</th>\n",
              "      <td>816.680000</td>\n",
              "      <td>816.680000</td>\n",
              "      <td>805.140000</td>\n",
              "      <td>1216.830000</td>\n",
              "      <td>2.497790e+07</td>\n",
              "    </tr>\n",
              "  </tbody>\n",
              "</table>\n",
              "</div>\n",
              "      <button class=\"colab-df-convert\" onclick=\"convertToInteractive('df-998193b2-2f53-4de5-abca-1bc639216614')\"\n",
              "              title=\"Convert this dataframe to an interactive table.\"\n",
              "              style=\"display:none;\">\n",
              "        \n",
              "  <svg xmlns=\"http://www.w3.org/2000/svg\" height=\"24px\"viewBox=\"0 0 24 24\"\n",
              "       width=\"24px\">\n",
              "    <path d=\"M0 0h24v24H0V0z\" fill=\"none\"/>\n",
              "    <path d=\"M18.56 5.44l.94 2.06.94-2.06 2.06-.94-2.06-.94-.94-2.06-.94 2.06-2.06.94zm-11 1L8.5 8.5l.94-2.06 2.06-.94-2.06-.94L8.5 2.5l-.94 2.06-2.06.94zm10 10l.94 2.06.94-2.06 2.06-.94-2.06-.94-.94-2.06-.94 2.06-2.06.94z\"/><path d=\"M17.41 7.96l-1.37-1.37c-.4-.4-.92-.59-1.43-.59-.52 0-1.04.2-1.43.59L10.3 9.45l-7.72 7.72c-.78.78-.78 2.05 0 2.83L4 21.41c.39.39.9.59 1.41.59.51 0 1.02-.2 1.41-.59l7.78-7.78 2.81-2.81c.8-.78.8-2.07 0-2.86zM5.41 20L4 18.59l7.72-7.72 1.47 1.35L5.41 20z\"/>\n",
              "  </svg>\n",
              "      </button>\n",
              "      \n",
              "  <style>\n",
              "    .colab-df-container {\n",
              "      display:flex;\n",
              "      flex-wrap:wrap;\n",
              "      gap: 12px;\n",
              "    }\n",
              "\n",
              "    .colab-df-convert {\n",
              "      background-color: #E8F0FE;\n",
              "      border: none;\n",
              "      border-radius: 50%;\n",
              "      cursor: pointer;\n",
              "      display: none;\n",
              "      fill: #1967D2;\n",
              "      height: 32px;\n",
              "      padding: 0 0 0 0;\n",
              "      width: 32px;\n",
              "    }\n",
              "\n",
              "    .colab-df-convert:hover {\n",
              "      background-color: #E2EBFA;\n",
              "      box-shadow: 0px 1px 2px rgba(60, 64, 67, 0.3), 0px 1px 3px 1px rgba(60, 64, 67, 0.15);\n",
              "      fill: #174EA6;\n",
              "    }\n",
              "\n",
              "    [theme=dark] .colab-df-convert {\n",
              "      background-color: #3B4455;\n",
              "      fill: #D2E3FC;\n",
              "    }\n",
              "\n",
              "    [theme=dark] .colab-df-convert:hover {\n",
              "      background-color: #434B5C;\n",
              "      box-shadow: 0px 1px 3px 1px rgba(0, 0, 0, 0.15);\n",
              "      filter: drop-shadow(0px 1px 2px rgba(0, 0, 0, 0.3));\n",
              "      fill: #FFFFFF;\n",
              "    }\n",
              "  </style>\n",
              "\n",
              "      <script>\n",
              "        const buttonEl =\n",
              "          document.querySelector('#df-998193b2-2f53-4de5-abca-1bc639216614 button.colab-df-convert');\n",
              "        buttonEl.style.display =\n",
              "          google.colab.kernel.accessAllowed ? 'block' : 'none';\n",
              "\n",
              "        async function convertToInteractive(key) {\n",
              "          const element = document.querySelector('#df-998193b2-2f53-4de5-abca-1bc639216614');\n",
              "          const dataTable =\n",
              "            await google.colab.kernel.invokeFunction('convertToInteractive',\n",
              "                                                     [key], {});\n",
              "          if (!dataTable) return;\n",
              "\n",
              "          const docLinkHtml = 'Like what you see? Visit the ' +\n",
              "            '<a target=\"_blank\" href=https://colab.research.google.com/notebooks/data_table.ipynb>data table notebook</a>'\n",
              "            + ' to learn more about interactive tables.';\n",
              "          element.innerHTML = '';\n",
              "          dataTable['output_type'] = 'display_data';\n",
              "          await google.colab.output.renderOutput(dataTable, element);\n",
              "          const docLink = document.createElement('div');\n",
              "          docLink.innerHTML = docLinkHtml;\n",
              "          element.appendChild(docLink);\n",
              "        }\n",
              "      </script>\n",
              "    </div>\n",
              "  </div>\n",
              "  "
            ]
          },
          "metadata": {},
          "execution_count": 7
        }
      ]
    },
    {
      "cell_type": "code",
      "source": [
        "# Check if there's data Nan\n",
        "print(df_train.isna().sum())\n",
        "print(df_test.isna().sum())"
      ],
      "metadata": {
        "colab": {
          "base_uri": "https://localhost:8080/"
        },
        "id": "LG-8hp-TnPsk",
        "outputId": "c57d605a-312f-47be-cde9-84001093f9c7"
      },
      "execution_count": 8,
      "outputs": [
        {
          "output_type": "stream",
          "name": "stdout",
          "text": [
            "Open      0\n",
            "High      0\n",
            "Low       0\n",
            "Close     0\n",
            "Volume    0\n",
            "dtype: int64\n",
            "Open      0\n",
            "High      0\n",
            "Low       0\n",
            "Close     0\n",
            "Volume    0\n",
            "dtype: int64\n"
          ]
        }
      ]
    },
    {
      "cell_type": "code",
      "source": [
        "# Check both of data has no null value\n",
        "print(df_train.isnull().sum())\n",
        "print(df_test.isnull().sum())"
      ],
      "metadata": {
        "colab": {
          "base_uri": "https://localhost:8080/"
        },
        "id": "wY_GDZ2Unr40",
        "outputId": "ffd51b26-8fed-46c9-b51b-422aafbd6420"
      },
      "execution_count": 9,
      "outputs": [
        {
          "output_type": "stream",
          "name": "stdout",
          "text": [
            "Open      0\n",
            "High      0\n",
            "Low       0\n",
            "Close     0\n",
            "Volume    0\n",
            "dtype: int64\n",
            "Open      0\n",
            "High      0\n",
            "Low       0\n",
            "Close     0\n",
            "Volume    0\n",
            "dtype: int64\n"
          ]
        }
      ]
    },
    {
      "cell_type": "code",
      "source": [
        "# Find data based on dates\n",
        "df_train[:'2012-01-10'] # [:'2012-01-10'] = index"
      ],
      "metadata": {
        "colab": {
          "base_uri": "https://localhost:8080/",
          "height": 0
        },
        "id": "HXURNspz0y9e",
        "outputId": "e93520b6-6dbc-40e5-d225-299694d87bba"
      },
      "execution_count": 10,
      "outputs": [
        {
          "output_type": "execute_result",
          "data": {
            "text/plain": [
              "              Open    High     Low   Close      Volume\n",
              "Date                                                  \n",
              "2012-01-03  325.25  332.83  324.97  663.59   7380500.0\n",
              "2012-01-04  331.27  333.87  329.08  666.45   5749400.0\n",
              "2012-01-05  329.83  330.75  326.89  657.21   6590300.0\n",
              "2012-01-06  328.34  328.77  323.68  648.24   5405900.0\n",
              "2012-01-09  322.04  322.29  309.46  620.76  11688800.0\n",
              "2012-01-10  313.70  315.72  307.30  621.43   8824000.0"
            ],
            "text/html": [
              "\n",
              "  <div id=\"df-e75fbf34-d7d0-4839-9e4e-3e53787598c2\">\n",
              "    <div class=\"colab-df-container\">\n",
              "      <div>\n",
              "<style scoped>\n",
              "    .dataframe tbody tr th:only-of-type {\n",
              "        vertical-align: middle;\n",
              "    }\n",
              "\n",
              "    .dataframe tbody tr th {\n",
              "        vertical-align: top;\n",
              "    }\n",
              "\n",
              "    .dataframe thead th {\n",
              "        text-align: right;\n",
              "    }\n",
              "</style>\n",
              "<table border=\"1\" class=\"dataframe\">\n",
              "  <thead>\n",
              "    <tr style=\"text-align: right;\">\n",
              "      <th></th>\n",
              "      <th>Open</th>\n",
              "      <th>High</th>\n",
              "      <th>Low</th>\n",
              "      <th>Close</th>\n",
              "      <th>Volume</th>\n",
              "    </tr>\n",
              "    <tr>\n",
              "      <th>Date</th>\n",
              "      <th></th>\n",
              "      <th></th>\n",
              "      <th></th>\n",
              "      <th></th>\n",
              "      <th></th>\n",
              "    </tr>\n",
              "  </thead>\n",
              "  <tbody>\n",
              "    <tr>\n",
              "      <th>2012-01-03</th>\n",
              "      <td>325.25</td>\n",
              "      <td>332.83</td>\n",
              "      <td>324.97</td>\n",
              "      <td>663.59</td>\n",
              "      <td>7380500.0</td>\n",
              "    </tr>\n",
              "    <tr>\n",
              "      <th>2012-01-04</th>\n",
              "      <td>331.27</td>\n",
              "      <td>333.87</td>\n",
              "      <td>329.08</td>\n",
              "      <td>666.45</td>\n",
              "      <td>5749400.0</td>\n",
              "    </tr>\n",
              "    <tr>\n",
              "      <th>2012-01-05</th>\n",
              "      <td>329.83</td>\n",
              "      <td>330.75</td>\n",
              "      <td>326.89</td>\n",
              "      <td>657.21</td>\n",
              "      <td>6590300.0</td>\n",
              "    </tr>\n",
              "    <tr>\n",
              "      <th>2012-01-06</th>\n",
              "      <td>328.34</td>\n",
              "      <td>328.77</td>\n",
              "      <td>323.68</td>\n",
              "      <td>648.24</td>\n",
              "      <td>5405900.0</td>\n",
              "    </tr>\n",
              "    <tr>\n",
              "      <th>2012-01-09</th>\n",
              "      <td>322.04</td>\n",
              "      <td>322.29</td>\n",
              "      <td>309.46</td>\n",
              "      <td>620.76</td>\n",
              "      <td>11688800.0</td>\n",
              "    </tr>\n",
              "    <tr>\n",
              "      <th>2012-01-10</th>\n",
              "      <td>313.70</td>\n",
              "      <td>315.72</td>\n",
              "      <td>307.30</td>\n",
              "      <td>621.43</td>\n",
              "      <td>8824000.0</td>\n",
              "    </tr>\n",
              "  </tbody>\n",
              "</table>\n",
              "</div>\n",
              "      <button class=\"colab-df-convert\" onclick=\"convertToInteractive('df-e75fbf34-d7d0-4839-9e4e-3e53787598c2')\"\n",
              "              title=\"Convert this dataframe to an interactive table.\"\n",
              "              style=\"display:none;\">\n",
              "        \n",
              "  <svg xmlns=\"http://www.w3.org/2000/svg\" height=\"24px\"viewBox=\"0 0 24 24\"\n",
              "       width=\"24px\">\n",
              "    <path d=\"M0 0h24v24H0V0z\" fill=\"none\"/>\n",
              "    <path d=\"M18.56 5.44l.94 2.06.94-2.06 2.06-.94-2.06-.94-.94-2.06-.94 2.06-2.06.94zm-11 1L8.5 8.5l.94-2.06 2.06-.94-2.06-.94L8.5 2.5l-.94 2.06-2.06.94zm10 10l.94 2.06.94-2.06 2.06-.94-2.06-.94-.94-2.06-.94 2.06-2.06.94z\"/><path d=\"M17.41 7.96l-1.37-1.37c-.4-.4-.92-.59-1.43-.59-.52 0-1.04.2-1.43.59L10.3 9.45l-7.72 7.72c-.78.78-.78 2.05 0 2.83L4 21.41c.39.39.9.59 1.41.59.51 0 1.02-.2 1.41-.59l7.78-7.78 2.81-2.81c.8-.78.8-2.07 0-2.86zM5.41 20L4 18.59l7.72-7.72 1.47 1.35L5.41 20z\"/>\n",
              "  </svg>\n",
              "      </button>\n",
              "      \n",
              "  <style>\n",
              "    .colab-df-container {\n",
              "      display:flex;\n",
              "      flex-wrap:wrap;\n",
              "      gap: 12px;\n",
              "    }\n",
              "\n",
              "    .colab-df-convert {\n",
              "      background-color: #E8F0FE;\n",
              "      border: none;\n",
              "      border-radius: 50%;\n",
              "      cursor: pointer;\n",
              "      display: none;\n",
              "      fill: #1967D2;\n",
              "      height: 32px;\n",
              "      padding: 0 0 0 0;\n",
              "      width: 32px;\n",
              "    }\n",
              "\n",
              "    .colab-df-convert:hover {\n",
              "      background-color: #E2EBFA;\n",
              "      box-shadow: 0px 1px 2px rgba(60, 64, 67, 0.3), 0px 1px 3px 1px rgba(60, 64, 67, 0.15);\n",
              "      fill: #174EA6;\n",
              "    }\n",
              "\n",
              "    [theme=dark] .colab-df-convert {\n",
              "      background-color: #3B4455;\n",
              "      fill: #D2E3FC;\n",
              "    }\n",
              "\n",
              "    [theme=dark] .colab-df-convert:hover {\n",
              "      background-color: #434B5C;\n",
              "      box-shadow: 0px 1px 3px 1px rgba(0, 0, 0, 0.15);\n",
              "      filter: drop-shadow(0px 1px 2px rgba(0, 0, 0, 0.3));\n",
              "      fill: #FFFFFF;\n",
              "    }\n",
              "  </style>\n",
              "\n",
              "      <script>\n",
              "        const buttonEl =\n",
              "          document.querySelector('#df-e75fbf34-d7d0-4839-9e4e-3e53787598c2 button.colab-df-convert');\n",
              "        buttonEl.style.display =\n",
              "          google.colab.kernel.accessAllowed ? 'block' : 'none';\n",
              "\n",
              "        async function convertToInteractive(key) {\n",
              "          const element = document.querySelector('#df-e75fbf34-d7d0-4839-9e4e-3e53787598c2');\n",
              "          const dataTable =\n",
              "            await google.colab.kernel.invokeFunction('convertToInteractive',\n",
              "                                                     [key], {});\n",
              "          if (!dataTable) return;\n",
              "\n",
              "          const docLinkHtml = 'Like what you see? Visit the ' +\n",
              "            '<a target=\"_blank\" href=https://colab.research.google.com/notebooks/data_table.ipynb>data table notebook</a>'\n",
              "            + ' to learn more about interactive tables.';\n",
              "          element.innerHTML = '';\n",
              "          dataTable['output_type'] = 'display_data';\n",
              "          await google.colab.output.renderOutput(dataTable, element);\n",
              "          const docLink = document.createElement('div');\n",
              "          docLink.innerHTML = docLinkHtml;\n",
              "          element.appendChild(docLink);\n",
              "        }\n",
              "      </script>\n",
              "    </div>\n",
              "  </div>\n",
              "  "
            ]
          },
          "metadata": {},
          "execution_count": 10
        }
      ]
    },
    {
      "cell_type": "code",
      "source": [
        "# sns.countplot(data=df_train).set(title=\"Training data\") # Bar Histogram\n",
        "df_train[['Open','Low','High']].plot(figsize=(16,7)) # Plot only 3 features"
      ],
      "metadata": {
        "colab": {
          "base_uri": "https://localhost:8080/",
          "height": 0
        },
        "id": "wGHLLnrD2Cbn",
        "outputId": "eb507651-df76-4a9f-a5a6-014018d08f27"
      },
      "execution_count": 11,
      "outputs": [
        {
          "output_type": "execute_result",
          "data": {
            "text/plain": [
              "<matplotlib.axes._subplots.AxesSubplot at 0x7f4a3dfcce90>"
            ]
          },
          "metadata": {},
          "execution_count": 11
        },
        {
          "output_type": "display_data",
          "data": {
            "text/plain": [
              "<Figure size 1152x504 with 1 Axes>"
            ],
            "image/png": "[encoded data removed]"
          },
          "metadata": {
            "needs_background": "light"
          }
        }
      ]
    },
    {
      "cell_type": "code",
      "source": [
        "train = df_train.iloc[:, 0:1].values # array\n",
        "train.shape"
      ],
      "metadata": {
        "colab": {
          "base_uri": "https://localhost:8080/"
        },
        "id": "VvClItON42E7",
        "outputId": "950c3104-962d-40fe-e4b6-6f129472be7b"
      },
      "execution_count": 12,
      "outputs": [
        {
          "output_type": "execute_result",
          "data": {
            "text/plain": [
              "(1258, 1)"
            ]
          },
          "metadata": {},
          "execution_count": 12
        }
      ]
    },
    {
      "cell_type": "code",
      "source": [
        "# Normalize using MinMaxScaller [-1, 1]\n",
        "from sklearn.preprocessing import MinMaxScaler\n",
        "\n",
        "scaler = MinMaxScaler()\n",
        "train = scaler.fit_transform(train)\n",
        "\n",
        "print(train[:5, :])\n",
        "train.shape"
      ],
      "metadata": {
        "colab": {
          "base_uri": "https://localhost:8080/"
        },
        "id": "acEaNI8K9Brq",
        "outputId": "f1d9d644-a5ab-4f5c-d2b4-47dca043b5f4"
      },
      "execution_count": 13,
      "outputs": [
        {
          "output_type": "stream",
          "name": "stdout",
          "text": [
            "[[0.08581368]\n",
            " [0.09701243]\n",
            " [0.09433366]\n",
            " [0.09156187]\n",
            " [0.07984225]]\n"
          ]
        },
        {
          "output_type": "execute_result",
          "data": {
            "text/plain": [
              "(1258, 1)"
            ]
          },
          "metadata": {},
          "execution_count": 13
        }
      ]
    },
    {
      "cell_type": "code",
      "source": [
        "# In this case, we just predict the stock price based on its 'Open' feature\n",
        "X_train = [] # >>> 1198 data\n",
        "y_train = []\n",
        "for i in range(60, len(df_train)):\n",
        "    X_train.append(train[i-60:i, 0]) # takes 60 x_train; r[0-59]c[0] (INPUT)\n",
        "    y_train.append(train[i, 0]) # takes r[60]c[0] as (OUTPUT) for stock price ahead to predict\n",
        "\n",
        "X_train, y_train = np.array(X_train), np.array(y_train) \n",
        "print(\"Input 1 : \", train[0:60, 0])  \n",
        "print(\"Output 1 : \", train[60,0])\n",
        "\n",
        "print(X_train.shape) # 1198 list, 60 rows for each list, with 1 features/cols for each row  \n",
        "print(y_train.shape) # Each 1198 lists in X_train represented by 1 output -> 1198 output for each feature(1) -> (1198,)"
      ],
      "metadata": {
        "colab": {
          "base_uri": "https://localhost:8080/"
        },
        "id": "f-EB_PW0-zu0",
        "outputId": "50b0b076-70ff-4c00-dab6-eeabd5479e6c"
      },
      "execution_count": 14,
      "outputs": [
        {
          "output_type": "stream",
          "name": "stdout",
          "text": [
            "Input 1 :  [0.08581368 0.09701243 0.09433366 0.09156187 0.07984225 0.0643277\n",
            " 0.0585423  0.06568569 0.06109085 0.06639259 0.0614257  0.07474514\n",
            " 0.02797827 0.02379269 0.02409033 0.0159238  0.01078949 0.00967334\n",
            " 0.01642607 0.02100231 0.02280676 0.02273235 0.02810849 0.03212665\n",
            " 0.0433812  0.04475779 0.04790163 0.0440695  0.04648783 0.04745517\n",
            " 0.04873875 0.03936305 0.04137213 0.04034898 0.04784582 0.04325099\n",
            " 0.04356723 0.04286033 0.04602277 0.05398467 0.05738894 0.05714711\n",
            " 0.05569611 0.04421832 0.04514845 0.04605997 0.04412531 0.03675869\n",
            " 0.04486941 0.05065481 0.05214302 0.05612397 0.05818885 0.06540665\n",
            " 0.06882953 0.07243843 0.07993526 0.07846566 0.08034452 0.08497656]\n",
            "Output 1 :  0.08627874097775134\n",
            "(1198, 60)\n",
            "(1198,)\n"
          ]
        }
      ]
    },
    {
      "cell_type": "code",
      "source": [
        "# Check size of train data before reshaping\n",
        "X_train.size"
      ],
      "metadata": {
        "colab": {
          "base_uri": "https://localhost:8080/"
        },
        "id": "JloFIcXA7HfX",
        "outputId": "b7d92341-dcff-4f2f-9b1a-2de6a608fe4a"
      },
      "execution_count": 15,
      "outputs": [
        {
          "output_type": "execute_result",
          "data": {
            "text/plain": [
              "71880"
            ]
          },
          "metadata": {},
          "execution_count": 15
        }
      ]
    },
    {
      "cell_type": "code",
      "source": [
        "# Reshape array\n",
        "X_train = np.reshape(X_train, (X_train.shape[0], X_train.shape[1], 1)) # 1198 * 60 * 1 = size\n",
        "X_train.shape"
      ],
      "metadata": {
        "id": "60fUkGz5kppA",
        "colab": {
          "base_uri": "https://localhost:8080/"
        },
        "outputId": "238d98c5-2651-46c5-971d-4e425b5f7893"
      },
      "execution_count": 16,
      "outputs": [
        {
          "output_type": "execute_result",
          "data": {
            "text/plain": [
              "(1198, 60, 1)"
            ]
          },
          "metadata": {},
          "execution_count": 16
        }
      ]
    },
    {
      "cell_type": "code",
      "source": [
        "# Check current training set dimension\n",
        "print(\"x : \", X_train.shape[0])\n",
        "print(\"y : \", X_train.shape[1])\n",
        "print(\"z : \", X_train.shape[2])"
      ],
      "metadata": {
        "colab": {
          "base_uri": "https://localhost:8080/"
        },
        "id": "Dwip6h_VP4fS",
        "outputId": "a3be35f4-ca0c-4fa1-ac4a-3c821da7af95"
      },
      "execution_count": 17,
      "outputs": [
        {
          "output_type": "stream",
          "name": "stdout",
          "text": [
            "x :  1198\n",
            "y :  60\n",
            "z :  1\n"
          ]
        }
      ]
    },
    {
      "cell_type": "code",
      "source": [
        "y_train.shape # 1198 output for each feature(1) "
      ],
      "metadata": {
        "colab": {
          "base_uri": "https://localhost:8080/"
        },
        "id": "Xs2QEQYQQR1H",
        "outputId": "02fce24a-3e05-4e80-e4ba-c043022d1881"
      },
      "execution_count": 18,
      "outputs": [
        {
          "output_type": "execute_result",
          "data": {
            "text/plain": [
              "(1198,)"
            ]
          },
          "metadata": {},
          "execution_count": 18
        }
      ]
    },
    {
      "cell_type": "markdown",
      "source": [
        "# Build RNN Model"
      ],
      "metadata": {
        "id": "XAmKa7NlQbEJ"
      }
    },
    {
      "cell_type": "code",
      "source": [
        "from keras.models import Sequential\n",
        "from keras.layers import Dense\n",
        "from keras.layers import LSTM\n",
        "from keras.layers import Dropout"
      ],
      "metadata": {
        "id": "Qlmw493sQU5B"
      },
      "execution_count": 19,
      "outputs": []
    },
    {
      "cell_type": "code",
      "source": [
        "# Note: replace LSTM with GRU or RNN if you want to try those\n",
        "model = Sequential(layers=[\n",
        "    LSTM(units=64, return_sequences=True, input_shape=(X_train.shape[1], 1)), # >>> 2D input(1 list contains = 60 data [with 1 feature], 64 output [return_seq true]), output 3D\n",
        "    Dropout(0.2), # prevent overfitting\n",
        "    LSTM(units=128, return_sequences=True), # >>> None, 60, 50\n",
        "    Dropout(0.2), # prevent overfitting\n",
        "    LSTM(units=128, return_sequences=True),\n",
        "    Dropout(0.2),\n",
        "    LSTM(units=128), # None, 50\n",
        "    Dropout(0.2),\n",
        "    Dense(name=\"output\", units=1), # None, 1 -> 2D output\n",
        "])\n",
        "\n",
        "model.compile(optimizer='adam', loss='mean_squared_error', metrics=['accuracy'])\n",
        "model.summary()"
      ],
      "metadata": {
        "colab": {
          "base_uri": "https://localhost:8080/"
        },
        "id": "6wYSfv9XQhH-",
        "outputId": "ea89dc32-c4c0-4dda-f6d7-c833f1cb77c9"
      },
      "execution_count": 20,
      "outputs": [
        {
          "output_type": "stream",
          "name": "stdout",
          "text": [
            "Model: \"sequential\"\n",
            "_________________________________________________________________\n",
            " Layer (type)                Output Shape              Param #   \n",
            "=================================================================\n",
            " lstm (LSTM)                 (None, 60, 64)            16896     \n",
            "                                                                 \n",
            " dropout (Dropout)           (None, 60, 64)            0         \n",
            "                                                                 \n",
            " lstm_1 (LSTM)               (None, 60, 128)           98816     \n",
            "                                                                 \n",
            " dropout_1 (Dropout)         (None, 60, 128)           0         \n",
            "                                                                 \n",
            " lstm_2 (LSTM)               (None, 60, 128)           131584    \n",
            "                                                                 \n",
            " dropout_2 (Dropout)         (None, 60, 128)           0         \n",
            "                                                                 \n",
            " lstm_3 (LSTM)               (None, 128)               131584    \n",
            "                                                                 \n",
            " dropout_3 (Dropout)         (None, 128)               0         \n",
            "                                                                 \n",
            " output (Dense)              (None, 1)                 129       \n",
            "                                                                 \n",
            "=================================================================\n",
            "Total params: 379,009\n",
            "Trainable params: 379,009\n",
            "Non-trainable params: 0\n",
            "_________________________________________________________________\n"
          ]
        }
      ]
    },
    {
      "cell_type": "markdown",
      "source": [
        "**return sequences (def=false):** return all hidden states == x\n",
        "\n",
        "**return state (def=false):** return last cell state to the output == y\n",
        "\n",
        "if you’re working with a multi-layer LSTM (Stacked LSTMs), you will have to set return_sequences = True, because you need the entire series of hidden states to *feed forward* into each successive LSTM layer / cell.\n",
        "\n",
        "for cell state, if you want an output of same dimensions as your input, entire time-series with the same number of time-step, then it’s True, but if you’re expecting only a representation for the last time-step, then it’s False"
      ],
      "metadata": {
        "id": "EfkJWCrhXAHL"
      }
    },
    {
      "cell_type": "code",
      "source": [
        "# from keras.callbacks import EarlyStopping\n",
        "# early = EarlyStopping(monitor='accuracy', min_delta=0, patience=40, verbose=1, mode='auto')\n",
        "\n",
        "model.fit(X_train, y_train, epochs=80, batch_size = 32)"
      ],
      "metadata": {
        "colab": {
          "base_uri": "https://localhost:8080/"
        },
        "id": "faHKb81lcNsv",
        "outputId": "a15f197f-53e8-4a36-c307-66f5199e24ac"
      },
      "execution_count": 21,
      "outputs": [
        {
          "output_type": "stream",
          "name": "stdout",
          "text": [
            "Epoch 1/80\n",
            "38/38 [==============================] - 17s 250ms/step - loss: 0.0380 - accuracy: 8.3472e-04\n",
            "Epoch 2/80\n",
            "38/38 [==============================] - 10s 261ms/step - loss: 0.0038 - accuracy: 0.0017\n",
            "Epoch 3/80\n",
            "38/38 [==============================] - 9s 246ms/step - loss: 0.0035 - accuracy: 0.0017\n",
            "Epoch 4/80\n",
            "38/38 [==============================] - 9s 246ms/step - loss: 0.0032 - accuracy: 0.0017\n",
            "Epoch 5/80\n",
            "38/38 [==============================] - 9s 249ms/step - loss: 0.0034 - accuracy: 0.0017\n",
            "Epoch 6/80\n",
            "38/38 [==============================] - 10s 251ms/step - loss: 0.0032 - accuracy: 0.0017\n",
            "Epoch 7/80\n",
            "38/38 [==============================] - 9s 250ms/step - loss: 0.0035 - accuracy: 0.0017\n",
            "Epoch 8/80\n",
            "38/38 [==============================] - 9s 248ms/step - loss: 0.0030 - accuracy: 0.0017\n",
            "Epoch 9/80\n",
            "38/38 [==============================] - 10s 255ms/step - loss: 0.0030 - accuracy: 0.0017\n",
            "Epoch 10/80\n",
            "38/38 [==============================] - 10s 249ms/step - loss: 0.0030 - accuracy: 0.0017\n",
            "Epoch 11/80\n",
            "38/38 [==============================] - 9s 249ms/step - loss: 0.0030 - accuracy: 0.0017\n",
            "Epoch 12/80\n",
            "38/38 [==============================] - 10s 253ms/step - loss: 0.0030 - accuracy: 0.0017\n",
            "Epoch 13/80\n",
            "38/38 [==============================] - 13s 332ms/step - loss: 0.0028 - accuracy: 0.0017\n",
            "Epoch 14/80\n",
            "38/38 [==============================] - 10s 250ms/step - loss: 0.0027 - accuracy: 0.0017\n",
            "Epoch 15/80\n",
            "38/38 [==============================] - 10s 253ms/step - loss: 0.0028 - accuracy: 0.0017\n",
            "Epoch 16/80\n",
            "38/38 [==============================] - 9s 248ms/step - loss: 0.0029 - accuracy: 0.0017\n",
            "Epoch 17/80\n",
            "38/38 [==============================] - 10s 251ms/step - loss: 0.0026 - accuracy: 0.0017\n",
            "Epoch 18/80\n",
            "38/38 [==============================] - 10s 251ms/step - loss: 0.0028 - accuracy: 0.0017\n",
            "Epoch 19/80\n",
            "38/38 [==============================] - 10s 251ms/step - loss: 0.0026 - accuracy: 0.0017\n",
            "Epoch 20/80\n",
            "38/38 [==============================] - 9s 250ms/step - loss: 0.0026 - accuracy: 0.0017\n",
            "Epoch 21/80\n",
            "38/38 [==============================] - 9s 248ms/step - loss: 0.0024 - accuracy: 0.0017\n",
            "Epoch 22/80\n",
            "38/38 [==============================] - 9s 248ms/step - loss: 0.0024 - accuracy: 0.0017\n",
            "Epoch 23/80\n",
            "38/38 [==============================] - 9s 248ms/step - loss: 0.0025 - accuracy: 0.0017\n",
            "Epoch 24/80\n",
            "38/38 [==============================] - 9s 249ms/step - loss: 0.0023 - accuracy: 0.0017\n",
            "Epoch 25/80\n",
            "38/38 [==============================] - 9s 247ms/step - loss: 0.0027 - accuracy: 0.0017\n",
            "Epoch 26/80\n",
            "38/38 [==============================] - 9s 249ms/step - loss: 0.0023 - accuracy: 0.0017\n",
            "Epoch 27/80\n",
            "38/38 [==============================] - 9s 248ms/step - loss: 0.0022 - accuracy: 0.0017\n",
            "Epoch 28/80\n",
            "38/38 [==============================] - 10s 250ms/step - loss: 0.0026 - accuracy: 0.0017\n",
            "Epoch 29/80\n",
            "38/38 [==============================] - 10s 250ms/step - loss: 0.0021 - accuracy: 0.0017\n",
            "Epoch 30/80\n",
            "38/38 [==============================] - 10s 252ms/step - loss: 0.0024 - accuracy: 0.0017\n",
            "Epoch 31/80\n",
            "38/38 [==============================] - 10s 251ms/step - loss: 0.0021 - accuracy: 0.0017\n",
            "Epoch 32/80\n",
            "38/38 [==============================] - 9s 250ms/step - loss: 0.0022 - accuracy: 0.0017\n",
            "Epoch 33/80\n",
            "38/38 [==============================] - 9s 248ms/step - loss: 0.0022 - accuracy: 0.0017\n",
            "Epoch 34/80\n",
            "38/38 [==============================] - 9s 248ms/step - loss: 0.0024 - accuracy: 0.0017\n",
            "Epoch 35/80\n",
            "38/38 [==============================] - 9s 248ms/step - loss: 0.0021 - accuracy: 0.0017\n",
            "Epoch 36/80\n",
            "38/38 [==============================] - 9s 248ms/step - loss: 0.0020 - accuracy: 0.0017\n",
            "Epoch 37/80\n",
            "38/38 [==============================] - 10s 250ms/step - loss: 0.0021 - accuracy: 0.0017\n",
            "Epoch 38/80\n",
            "38/38 [==============================] - 9s 248ms/step - loss: 0.0020 - accuracy: 0.0017\n",
            "Epoch 39/80\n",
            "38/38 [==============================] - 9s 247ms/step - loss: 0.0018 - accuracy: 0.0017\n",
            "Epoch 40/80\n",
            "38/38 [==============================] - 9s 249ms/step - loss: 0.0020 - accuracy: 0.0017\n",
            "Epoch 41/80\n",
            "38/38 [==============================] - 10s 250ms/step - loss: 0.0020 - accuracy: 0.0017\n",
            "Epoch 42/80\n",
            "38/38 [==============================] - 9s 249ms/step - loss: 0.0017 - accuracy: 0.0017\n",
            "Epoch 43/80\n",
            "38/38 [==============================] - 9s 250ms/step - loss: 0.0016 - accuracy: 0.0017\n",
            "Epoch 44/80\n",
            "38/38 [==============================] - 9s 248ms/step - loss: 0.0017 - accuracy: 0.0017\n",
            "Epoch 45/80\n",
            "38/38 [==============================] - 9s 249ms/step - loss: 0.0017 - accuracy: 0.0017\n",
            "Epoch 46/80\n",
            "38/38 [==============================] - 9s 248ms/step - loss: 0.0017 - accuracy: 0.0017\n",
            "Epoch 47/80\n",
            "38/38 [==============================] - 10s 251ms/step - loss: 0.0017 - accuracy: 0.0017\n",
            "Epoch 48/80\n",
            "38/38 [==============================] - 11s 292ms/step - loss: 0.0016 - accuracy: 0.0017\n",
            "Epoch 49/80\n",
            "38/38 [==============================] - 10s 250ms/step - loss: 0.0017 - accuracy: 0.0017\n",
            "Epoch 50/80\n",
            "38/38 [==============================] - 10s 251ms/step - loss: 0.0018 - accuracy: 0.0017\n",
            "Epoch 51/80\n",
            "38/38 [==============================] - 10s 252ms/step - loss: 0.0019 - accuracy: 0.0017\n",
            "Epoch 52/80\n",
            "38/38 [==============================] - 10s 251ms/step - loss: 0.0019 - accuracy: 0.0017\n",
            "Epoch 53/80\n",
            "38/38 [==============================] - 9s 249ms/step - loss: 0.0015 - accuracy: 0.0017\n",
            "Epoch 54/80\n",
            "38/38 [==============================] - 9s 248ms/step - loss: 0.0016 - accuracy: 0.0017\n",
            "Epoch 55/80\n",
            "38/38 [==============================] - 9s 249ms/step - loss: 0.0015 - accuracy: 0.0017\n",
            "Epoch 56/80\n",
            "38/38 [==============================] - 9s 249ms/step - loss: 0.0014 - accuracy: 0.0017\n",
            "Epoch 57/80\n",
            "38/38 [==============================] - 9s 250ms/step - loss: 0.0016 - accuracy: 0.0017\n",
            "Epoch 58/80\n",
            "38/38 [==============================] - 9s 249ms/step - loss: 0.0014 - accuracy: 0.0017\n",
            "Epoch 59/80\n",
            "38/38 [==============================] - 9s 249ms/step - loss: 0.0015 - accuracy: 0.0017\n",
            "Epoch 60/80\n",
            "38/38 [==============================] - 9s 249ms/step - loss: 0.0015 - accuracy: 0.0017\n",
            "Epoch 61/80\n",
            "38/38 [==============================] - 10s 251ms/step - loss: 0.0015 - accuracy: 0.0017\n",
            "Epoch 62/80\n",
            "38/38 [==============================] - 10s 250ms/step - loss: 0.0013 - accuracy: 0.0017\n",
            "Epoch 63/80\n",
            "38/38 [==============================] - 9s 249ms/step - loss: 0.0014 - accuracy: 0.0017\n",
            "Epoch 64/80\n",
            "38/38 [==============================] - 9s 249ms/step - loss: 0.0013 - accuracy: 0.0017\n",
            "Epoch 65/80\n",
            "38/38 [==============================] - 10s 250ms/step - loss: 0.0016 - accuracy: 0.0017\n",
            "Epoch 66/80\n",
            "38/38 [==============================] - 9s 249ms/step - loss: 0.0013 - accuracy: 0.0017\n",
            "Epoch 67/80\n",
            "38/38 [==============================] - 9s 249ms/step - loss: 0.0013 - accuracy: 0.0017\n",
            "Epoch 68/80\n",
            "38/38 [==============================] - 10s 250ms/step - loss: 0.0015 - accuracy: 0.0017\n",
            "Epoch 69/80\n",
            "38/38 [==============================] - 9s 246ms/step - loss: 0.0014 - accuracy: 0.0017\n",
            "Epoch 70/80\n",
            "38/38 [==============================] - 9s 249ms/step - loss: 0.0012 - accuracy: 0.0017\n",
            "Epoch 71/80\n",
            "38/38 [==============================] - 9s 249ms/step - loss: 0.0014 - accuracy: 0.0017\n",
            "Epoch 72/80\n",
            "38/38 [==============================] - 10s 251ms/step - loss: 0.0016 - accuracy: 0.0017\n",
            "Epoch 73/80\n",
            "38/38 [==============================] - 10s 251ms/step - loss: 0.0014 - accuracy: 0.0017\n",
            "Epoch 74/80\n",
            "38/38 [==============================] - 9s 249ms/step - loss: 0.0013 - accuracy: 0.0017\n",
            "Epoch 75/80\n",
            "38/38 [==============================] - 9s 249ms/step - loss: 0.0013 - accuracy: 0.0017\n",
            "Epoch 76/80\n",
            "38/38 [==============================] - 9s 247ms/step - loss: 0.0014 - accuracy: 0.0017\n",
            "Epoch 77/80\n",
            "38/38 [==============================] - 9s 249ms/step - loss: 0.0012 - accuracy: 0.0017\n",
            "Epoch 78/80\n",
            "38/38 [==============================] - 9s 248ms/step - loss: 0.0012 - accuracy: 0.0017\n",
            "Epoch 79/80\n",
            "38/38 [==============================] - 9s 249ms/step - loss: 0.0011 - accuracy: 0.0017\n",
            "Epoch 80/80\n",
            "38/38 [==============================] - 9s 249ms/step - loss: 0.0012 - accuracy: 0.0017\n"
          ]
        },
        {
          "output_type": "execute_result",
          "data": {
            "text/plain": [
              "<keras.callbacks.History at 0x7f49cfa00550>"
            ]
          },
          "metadata": {},
          "execution_count": 21
        }
      ]
    },
    {
      "cell_type": "markdown",
      "source": [
        "# Making Prediction"
      ],
      "metadata": {
        "id": "MrZS-Tj1m4FK"
      }
    },
    {
      "cell_type": "code",
      "source": [
        "test = df_test.iloc[:, 0]"
      ],
      "metadata": {
        "id": "R5az_7PAmtgx"
      },
      "execution_count": 22,
      "outputs": []
    },
    {
      "cell_type": "code",
      "source": [
        "# Getting the predicted stock price of 2018\n",
        "df_total = pd.concat((df_train['Open'], df_test['Open']), axis = 0) # all the data stock is into be one\n",
        "print(df_total)\n",
        "print()\n",
        "print(len(df_train))\n",
        "print(len(df_test))\n",
        "print(len(df_total))"
      ],
      "metadata": {
        "colab": {
          "base_uri": "https://localhost:8080/"
        },
        "id": "oGs1Z6QMncFb",
        "outputId": "8ab0b222-abf7-4f50-9ef2-0112f09f7e8b"
      },
      "execution_count": 23,
      "outputs": [
        {
          "output_type": "stream",
          "name": "stdout",
          "text": [
            "Date\n",
            "2012-01-03    325.25\n",
            "2012-01-04    331.27\n",
            "2012-01-05    329.83\n",
            "2012-01-06    328.34\n",
            "2012-01-09    322.04\n",
            "               ...  \n",
            "2017-01-25    829.62\n",
            "2017-01-26    837.81\n",
            "2017-01-27    834.71\n",
            "2017-01-30    814.66\n",
            "2017-01-31    796.86\n",
            "Name: Open, Length: 1278, dtype: float64\n",
            "\n",
            "1258\n",
            "20\n",
            "1278\n"
          ]
        }
      ]
    },
    {
      "cell_type": "code",
      "source": [
        "test_inputs = df_total[X_train.shape[0]:].values #getting input of each previous financial days [1198, 1199,..., 1278]\n",
        "test_inputs.shape # 80 rows, has 1 feature for each of row (80,)"
      ],
      "metadata": {
        "colab": {
          "base_uri": "https://localhost:8080/"
        },
        "id": "CDxKsQICoV_0",
        "outputId": "651ca2ac-e9dd-4357-d047-ea21c17589e1"
      },
      "execution_count": 24,
      "outputs": [
        {
          "output_type": "execute_result",
          "data": {
            "text/plain": [
              "(80,)"
            ]
          },
          "metadata": {},
          "execution_count": 24
        }
      ]
    },
    {
      "cell_type": "code",
      "source": [
        "test_inputs = test_inputs.reshape(-1, 1)\n",
        "print(test_inputs[0])\n",
        "\n",
        "test_inputs = scaler.transform(test_inputs) # before, we have already fit training data into scaler. For test just adjusting testing data to scaler setting\n",
        "print(test_inputs[0])"
      ],
      "metadata": {
        "colab": {
          "base_uri": "https://localhost:8080/"
        },
        "id": "ZM_U-Qsboo3d",
        "outputId": "1bc8163e-bd09-4697-f163-5ebc407112a9"
      },
      "execution_count": 25,
      "outputs": [
        {
          "output_type": "stream",
          "name": "stdout",
          "text": [
            "[779.]\n",
            "[0.9299055]\n"
          ]
        }
      ]
    },
    {
      "cell_type": "code",
      "source": [
        "X_test = []\n",
        "for i in range(60, len(test_inputs)):\n",
        "    X_test.append(test_inputs[i-60:i, 0]) # test_inp r[0-59]c[0]\n",
        "\n",
        "X_test = np.array(X_test)  \n",
        "print(X_test.size) # 6000 data\n",
        "\n",
        "X_test = np.reshape(X_test, (X_test.shape[0], X_test.shape[1], 1)) # (20 lists, 60 rows for each list with 1 feature for each row)\n",
        "X_test.shape"
      ],
      "metadata": {
        "colab": {
          "base_uri": "https://localhost:8080/"
        },
        "id": "TGQQ5Od_oxqM",
        "outputId": "6b2c7e05-9f2b-4d89-853a-59591db99584"
      },
      "execution_count": 26,
      "outputs": [
        {
          "output_type": "stream",
          "name": "stdout",
          "text": [
            "1200\n"
          ]
        },
        {
          "output_type": "execute_result",
          "data": {
            "text/plain": [
              "(20, 60, 1)"
            ]
          },
          "metadata": {},
          "execution_count": 26
        }
      ]
    },
    {
      "cell_type": "code",
      "source": [
        "predicted_stock_price = model.predict(X_test)\n",
        "predicted_stock_price.shape\n",
        "# When you scale your data, it will take the minmax of each field and transform it into 0 to 1 values.\n",
        "predicted_stock_price = scaler.inverse_transform(predicted_stock_price)"
      ],
      "metadata": {
        "id": "lrC-JzRUx06g"
      },
      "execution_count": 27,
      "outputs": []
    },
    {
      "cell_type": "code",
      "source": [
        "# Visualising the results\n",
        "plt.plot(test.values, color = 'red', label = 'Real Google Stock Price [Open]')\n",
        "plt.plot(predicted_stock_price, color = 'blue', label = 'Predicted Google Stock Price')\n",
        "plt.title('Google Stock Price Prediction')\n",
        "plt.xlabel('Time')\n",
        "plt.ylabel('Google Stock Price')\n",
        "plt.legend()\n",
        "plt.show()\n"
      ],
      "metadata": {
        "colab": {
          "base_uri": "https://localhost:8080/",
          "height": 295
        },
        "id": "Yc_lcCF8_Gkp",
        "outputId": "a3bad829-3bfe-45e7-bf72-b1b3213f28d9"
      },
      "execution_count": 28,
      "outputs": [
        {
          "output_type": "display_data",
          "data": {
            "text/plain": [
              "<Figure size 432x288 with 1 Axes>"
            ],
            "image/png": "[encoded data removed]"
          },
          "metadata": {
            "needs_background": "light"
          }
        }
      ]
    },
    {
      "cell_type": "code",
      "source": [
        "# plt.plot(test['Low'].values, color = 'red', label = 'Real Google Stock Price [Low]')\n",
        "# plt.plot(predicted_stock_price, color = 'blue', label = 'Predicted Google Stock Price')\n",
        "# plt.legend()\n",
        "# plt.show()"
      ],
      "metadata": {
        "id": "ZRf70KSBM9yM"
      },
      "execution_count": 29,
      "outputs": []
    },
    {
      "cell_type": "code",
      "source": [
        "# plt.plot(test['High'].values, color = 'red', label = 'Real Google Stock Price [High]')\n",
        "# plt.plot(predicted_stock_price, color = 'blue', label = 'Predicted Google Stock Price')\n",
        "# plt.legend()\n",
        "# plt.show()"
      ],
      "metadata": {
        "id": "RMRRKB1oNB3B"
      },
      "execution_count": 30,
      "outputs": []
    },
    {
      "cell_type": "code",
      "source": [
        "# plt.plot(test['Close'].values, color = 'red', label = 'Real Google Stock Price [Close]')\n",
        "# plt.plot(predicted_stock_price, color = 'blue', label = 'Predicted Google Stock Price')\n",
        "# plt.legend()\n",
        "# plt.show()"
      ],
      "metadata": {
        "id": "G10TjJYzNGX6"
      },
      "execution_count": 31,
      "outputs": []
    },
    {
      "cell_type": "code",
      "source": [
        "# plt.plot(test['Volume'].values, color = 'red', label = 'Real Google Stock Price [Open]')\n",
        "# plt.plot(predicted_stock_price, color = 'blue', label = 'Predicted Google Stock Price')\n",
        "# plt.legend()\n",
        "# plt.show()"
      ],
      "metadata": {
        "id": "u5p-V40oNIvU"
      },
      "execution_count": 32,
      "outputs": []
    }
  ]
}
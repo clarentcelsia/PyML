{
  "nbformat": 4,
  "nbformat_minor": 0,
  "metadata": {
    "colab": {
      "name": "PCA.ipynb",
      "provenance": [],
      "collapsed_sections": [
        "EHKCCoqr-Vjt"
      ],
      "authorship_tag": "ABX9TyPWHngKFqJ5/7eeJLpHEJuk",
      "include_colab_link": true
    },
    "kernelspec": {
      "name": "python3",
      "display_name": "Python 3"
    },
    "language_info": {
      "name": "python"
    }
  },
  "cells": [
    {
      "cell_type": "markdown",
      "metadata": {
        "id": "view-in-github",
        "colab_type": "text"
      },
      "source": [
        "<a href=\"https://colab.research.google.com/github/clarentcelsia/PyML/blob/master/pca/doc/PCA.ipynb\" target=\"_parent\"><img src=\"https://colab.research.google.com/assets/colab-badge.svg\" alt=\"Open In Colab\"/></a>"
      ]
    },
    {
      "cell_type": "markdown",
      "source": [
        "#PCA\n",
        "Principal Component Analysis is an unsupervised learning (preprocessing task) carried out before applying any ML algorithm, based on orthogonal linear transformation. \n",
        "\n",
        "It detects the directions in which the vector formed data varies most. It first finds the direction of highest variance, and then proceeds to discover directions of highest variance that are orthogonal to those direction.\n",
        "\n",
        "Generally used when having a muiltidimensional data that has many input attrs. In this case PCA allows you to identify the dimensions of greatest variance, to the dimensions of least variance. \n",
        "\n",
        "Basically, it refers to the fact that a higher number of attributes in a dataset adversely affects the accuracy and training time of the machine learning model. Principal Component Analysis (PCA) is a way to address this issue and is used for better data visualization and improving accuracy."
      ],
      "metadata": {
        "id": "s1h_N4FSwRU-"
      }
    },
    {
      "cell_type": "markdown",
      "source": [
        "## Implement PCA with some random numbers\n",
        "For basic, we gonna use some random numbers and implement it with pca."
      ],
      "metadata": {
        "id": "ECREYk4Y5eRV"
      }
    },
    {
      "cell_type": "code",
      "source": [
        "import numpy as np"
      ],
      "metadata": {
        "id": "k70yn2os5b-a"
      },
      "execution_count": 19,
      "outputs": []
    },
    {
      "cell_type": "code",
      "source": [
        "# create an array from random numbers\n",
        "  # set randomstate to make sure the value is fixed. \n",
        "rand = np.random.RandomState(1) \n",
        "\n",
        "# return a sample (or samples) from the “standard normal” distribution.\n",
        "a = rand.randn(5,5) \n",
        "print(a)"
      ],
      "metadata": {
        "colab": {
          "base_uri": "https://localhost:8080/"
        },
        "id": "m8rtHbH-6K6r",
        "outputId": "e13c8578-3aa3-4025-b009-034b3205257c"
      },
      "execution_count": 20,
      "outputs": [
        {
          "output_type": "stream",
          "name": "stdout",
          "text": [
            "[[ 1.62434536 -0.61175641 -0.52817175 -1.07296862  0.86540763]\n",
            " [-2.3015387   1.74481176 -0.7612069   0.3190391  -0.24937038]\n",
            " [ 1.46210794 -2.06014071 -0.3224172  -0.38405435  1.13376944]\n",
            " [-1.09989127 -0.17242821 -0.87785842  0.04221375  0.58281521]\n",
            " [-1.10061918  1.14472371  0.90159072  0.50249434  0.90085595]]\n"
          ]
        }
      ]
    },
    {
      "cell_type": "markdown",
      "source": [
        "Standard Deviation Formula :\n",
        "\n",
        "![](https://www.gstatic.com/education/formulas2/443397389/en/population_standard_deviation.svg)"
      ],
      "metadata": {
        "id": "WapnQ0HOUEJP"
      }
    },
    {
      "cell_type": "code",
      "source": [
        "# scaling data for data normalization before performing pca. \n",
        "# it's important not to skip this step because pca is to maximize the variance, \n",
        "# that happens when you projecting your original data onto direction.\n",
        "\n",
        "# https://vitalflux.com/pca-explained-variance-concept-python-example/\n",
        "\n",
        "# https://scikit-learn.org/stable/modules/generated/sklearn.preprocessing.StandardScaler.html\n",
        "from sklearn.preprocessing import StandardScaler\n",
        "from sklearn.decomposition import PCA\n",
        "\n",
        "# z = (x - u) / s\n",
        " # u = mean of data\n",
        " # s = std dev of data\n",
        " # x = data\n",
        "sc = StandardScaler(with_mean=False)\n",
        "sc.fit(a)\n",
        "a_std = sc.transform(a)\n",
        "print('std score of a : \\n', a_std)\n",
        "\n",
        "# PCA\n",
        "pca = PCA()\n",
        "a_transformed = pca.fit_transform(a_std)\n",
        "print('a_transformed : \\n', a_transformed)"
      ],
      "metadata": {
        "colab": {
          "base_uri": "https://localhost:8080/"
        },
        "id": "rXA6mCDDJ5mz",
        "outputId": "306d7e77-6a85-4c0d-ccb8-e308022b5803"
      },
      "execution_count": 30,
      "outputs": [
        {
          "output_type": "stream",
          "name": "stdout",
          "text": [
            "std of a : \n",
            " [[ 1.04444159 -0.45591277 -0.82658795 -1.90605368  1.79927502]\n",
            " [-1.4798717   1.30032468 -1.19128759  0.56675063 -0.51846768]\n",
            " [ 0.94012417 -1.53532425 -0.50458241 -0.68224569  2.35722793]\n",
            " [-0.70722164 -0.12850249 -1.37384702  0.07498977  1.21173516]\n",
            " [-0.70768968  0.85310778  1.41098804  0.89264603  1.87297587]]\n",
            "a_transformed : \n",
            " [[-1.93164568e+00 -6.25065914e-01  8.81820614e-01  8.97098228e-02\n",
            "   6.87375220e-17]\n",
            " [ 2.56934495e+00 -1.11335756e+00  1.79926778e-01 -2.03931965e-01\n",
            "   6.87375220e-17]\n",
            " [-2.09781985e+00  2.25011474e-01 -6.09177622e-01 -2.49988752e-01\n",
            "   6.87375220e-17]\n",
            " [ 3.81284809e-01 -7.06047738e-01 -6.47084719e-01  3.15526701e-01\n",
            "   6.87375220e-17]\n",
            " [ 1.07883578e+00  2.21945974e+00  1.94514949e-01  4.86841936e-02\n",
            "   6.87375220e-17]]\n"
          ]
        }
      ]
    },
    {
      "cell_type": "code",
      "source": [
        "import matplotlib.pyplot as plt\n",
        "\n",
        "# Explained Variance of A\n",
        " # statistical measure of how much variation in a dataset can be attributed to each of the principal components(eigenvectors).\n",
        " # it tells us how much of the total variance is “explained” by each component.\n",
        " # it allows us to rank the components in order of importance, the most important ones.\n",
        " # generally, the larger the variance, the more important that component is.\n",
        "\n",
        " # This technique is useful when reducing the dimensional of the larger data. \n",
        "\n",
        "# Remember, explained variance represents the information explained using DIFF PRINCIPAL COMPONENTS (EIGENVECTORS), that is \n",
        "# calculated as RATIO of related eigenvalue and sum of eigenvalues of all eigenvectors.\n",
        "\n",
        "# Get the ratio of variance -> eigenvalue/total_eigh\n",
        "exp_var_a = pca.explained_variance_ratio_ \n",
        "sum_exp_var_a = np.cumsum(exp_var_a)\n",
        "\n",
        "data_x, data_y = range(0, len(exp_var_a)), exp_var_a\n",
        "cum_eigh_x, cum_eigh_y = range(0, len(sum_exp_var_a)), sum_exp_var_a\n",
        "\n",
        "plt.bar(data_x, data_y, alpha=0.7, label='explained variance of a', align='center')\n",
        "plt.step(cum_eigh_x, cum_eigh_y, alpha=0.7, label='cumulative sum of explained variance of a', where='mid')\n",
        "plt.legend(loc='best')\n",
        "plt.tight_layout()\n",
        "plt.show()"
      ],
      "metadata": {
        "colab": {
          "base_uri": "https://localhost:8080/",
          "height": 297
        },
        "id": "JDYTv7f9aih5",
        "outputId": "9cf32c49-343f-4370-8ac1-3fdf03481cf6"
      },
      "execution_count": 39,
      "outputs": [
        {
          "output_type": "display_data",
          "data": {
            "text/plain": [
              "<Figure size 432x288 with 1 Axes>"
            ],
            "image/png": "[encoded data removed]"
          },
          "metadata": {
            "needs_background": "light"
          }
        }
      ]
    },
    {
      "cell_type": "code",
      "source": [
        "b =  rand.randn(100, 5)\n",
        "\n",
        "# here we gonna fit and transform the new data\n",
        "b_std = sc.fit_transform(b) # scaling\n",
        "\n",
        "# Reduce feature dimension from 5 to 2\n",
        "new_pca = PCA(n_components=2)\n",
        "new_pca.fit(b_std)\n",
        "b_transformed = new_pca.transform(b_std) # pca\n",
        "print(b_transformed.shape)\n",
        "\n",
        "# visualize\n",
        "plt.scatter(b[:, 0], b[:, 1], c='b', label='original data')\n",
        "plt.scatter(b_transformed[:, 0], b_transformed[:, 1], c='r', label='after pca')\n",
        "plt.legend(loc='best')\n",
        "plt.show()"
      ],
      "metadata": {
        "colab": {
          "base_uri": "https://localhost:8080/",
          "height": 282
        },
        "id": "auv1gckQ0Pta",
        "outputId": "380818bc-a1a4-46bb-8093-5f9b206855e2"
      },
      "execution_count": 82,
      "outputs": [
        {
          "output_type": "stream",
          "name": "stdout",
          "text": [
            "(100, 2)\n"
          ]
        },
        {
          "output_type": "display_data",
          "data": {
            "text/plain": [
              "<Figure size 432x288 with 1 Axes>"
            ],
            "image/png": "[encoded data removed]"
          },
          "metadata": {
            "needs_background": "light"
          }
        }
      ]
    },
    {
      "cell_type": "code",
      "source": [
        "def arrows(v1, v2, axis):\n",
        "  # define arrow attrs\n",
        "  arrowprops = dict(\n",
        "      arrowstyle='->',\n",
        "      linewidth=2.,\n",
        "      shrinkA=0,\n",
        "      shrinkB=0)\n",
        "  \n",
        "  axis.annotate(\"\", v2, v1, arrowprops=arrowprops)\n",
        "\n",
        "fig, ax = plt.subplots(1,2, figsize=(12,4))\n",
        "ax[0].axis('equal')\n",
        "ax[0].scatter(b[:, 0], b[:, 1], c='b')\n",
        "\n",
        "ax[1].axis('equal')\n",
        "ax[1].scatter(b_transformed[:, 0], b_transformed[:, 1], c='r')\n",
        "\n",
        "variances = new_pca.explained_variance_\n",
        "print(variances.shape)\n",
        "eigenvectors = new_pca.components_\n",
        "print(eigenvectors.shape)\n",
        "\n",
        "for length, vector in zip(variances, eigenvectors[:, :2]):\n",
        "  # draw vector starts from axis (0,0)\n",
        "  arrows([0,0], vector*length*3, ax[0]) \n",
        "\n",
        "# pca_transformed [1,0][0,1]\n",
        "for length, vector in zip([1.0,0.2], [np.array([1.0,0.0]), np.array([0.0,1.0])]):\n",
        "  arrows([0,0], vector*length*3, ax[1])\n",
        "\n",
        "ax[0].set_title('original')\n",
        "ax[1].set_title('transformed')"
      ],
      "metadata": {
        "colab": {
          "base_uri": "https://localhost:8080/",
          "height": 333
        },
        "id": "c8fzh2Kw5Mib",
        "outputId": "284ed0ba-89e1-4349-cb5a-437001834350"
      },
      "execution_count": 87,
      "outputs": [
        {
          "output_type": "stream",
          "name": "stdout",
          "text": [
            "(2,)\n",
            "(2, 5)\n"
          ]
        },
        {
          "output_type": "execute_result",
          "data": {
            "text/plain": [
              "Text(0.5, 1.0, 'transformed')"
            ]
          },
          "metadata": {},
          "execution_count": 87
        },
        {
          "output_type": "display_data",
          "data": {
            "text/plain": [
              "<Figure size 864x288 with 2 Axes>"
            ],
            "image/png": "[encoded data removed]"
          },
          "metadata": {
            "needs_background": "light"
          }
        }
      ]
    },
    {
      "cell_type": "markdown",
      "source": [
        "## Dataset"
      ],
      "metadata": {
        "id": "EHKCCoqr-Vjt"
      }
    },
    {
      "cell_type": "code",
      "execution_count": 1,
      "metadata": {
        "id": "rdo1gKauvg86"
      },
      "outputs": [],
      "source": [
        "from sklearn import datasets\n",
        "iris = datasets.load_iris()"
      ]
    },
    {
      "cell_type": "code",
      "source": [
        "X_train = iris.data\n",
        "X_train[:5, :]"
      ],
      "metadata": {
        "colab": {
          "base_uri": "https://localhost:8080/"
        },
        "id": "Ep9qpZm90EMD",
        "outputId": "9b4726cb-8ffc-4a58-b60a-e8f625c84ffb"
      },
      "execution_count": 2,
      "outputs": [
        {
          "output_type": "execute_result",
          "data": {
            "text/plain": [
              "array([[5.1, 3.5, 1.4, 0.2],\n",
              "       [4.9, 3. , 1.4, 0.2],\n",
              "       [4.7, 3.2, 1.3, 0.2],\n",
              "       [4.6, 3.1, 1.5, 0.2],\n",
              "       [5. , 3.6, 1.4, 0.2]])"
            ]
          },
          "metadata": {},
          "execution_count": 2
        }
      ]
    },
    {
      "cell_type": "code",
      "source": [
        "iris.feature_names"
      ],
      "metadata": {
        "colab": {
          "base_uri": "https://localhost:8080/"
        },
        "id": "6oyH_Pcp0gyU",
        "outputId": "1140841e-09c5-46ca-fff9-0302341c452a"
      },
      "execution_count": 3,
      "outputs": [
        {
          "output_type": "execute_result",
          "data": {
            "text/plain": [
              "['sepal length (cm)',\n",
              " 'sepal width (cm)',\n",
              " 'petal length (cm)',\n",
              " 'petal width (cm)']"
            ]
          },
          "metadata": {},
          "execution_count": 3
        }
      ]
    },
    {
      "cell_type": "code",
      "source": [
        "iris.target"
      ],
      "metadata": {
        "colab": {
          "base_uri": "https://localhost:8080/"
        },
        "id": "Dc_BsBAM0uOh",
        "outputId": "3f770fd1-d8bf-429a-d476-999a54b34351"
      },
      "execution_count": 4,
      "outputs": [
        {
          "output_type": "execute_result",
          "data": {
            "text/plain": [
              "array([0, 0, 0, 0, 0, 0, 0, 0, 0, 0, 0, 0, 0, 0, 0, 0, 0, 0, 0, 0, 0, 0,\n",
              "       0, 0, 0, 0, 0, 0, 0, 0, 0, 0, 0, 0, 0, 0, 0, 0, 0, 0, 0, 0, 0, 0,\n",
              "       0, 0, 0, 0, 0, 0, 1, 1, 1, 1, 1, 1, 1, 1, 1, 1, 1, 1, 1, 1, 1, 1,\n",
              "       1, 1, 1, 1, 1, 1, 1, 1, 1, 1, 1, 1, 1, 1, 1, 1, 1, 1, 1, 1, 1, 1,\n",
              "       1, 1, 1, 1, 1, 1, 1, 1, 1, 1, 1, 1, 2, 2, 2, 2, 2, 2, 2, 2, 2, 2,\n",
              "       2, 2, 2, 2, 2, 2, 2, 2, 2, 2, 2, 2, 2, 2, 2, 2, 2, 2, 2, 2, 2, 2,\n",
              "       2, 2, 2, 2, 2, 2, 2, 2, 2, 2, 2, 2, 2, 2, 2, 2, 2, 2])"
            ]
          },
          "metadata": {},
          "execution_count": 4
        }
      ]
    },
    {
      "cell_type": "code",
      "source": [
        "from sklearn.decomposition import PCA\n",
        "pca = PCA(n_components=2)"
      ],
      "metadata": {
        "id": "xJbYrKWa1QwA"
      },
      "execution_count": 5,
      "outputs": []
    },
    {
      "cell_type": "code",
      "source": [
        "# here pca learns some quantities from the data\n",
        "pca.fit(X_train)"
      ],
      "metadata": {
        "colab": {
          "base_uri": "https://localhost:8080/"
        },
        "id": "FTN5JTEi1al8",
        "outputId": "89f08d17-777f-424d-ea6f-f10c5214eaba"
      },
      "execution_count": 6,
      "outputs": [
        {
          "output_type": "execute_result",
          "data": {
            "text/plain": [
              "PCA(n_components=2)"
            ]
          },
          "metadata": {},
          "execution_count": 6
        }
      ]
    },
    {
      "cell_type": "code",
      "source": [
        "pca.components_"
      ],
      "metadata": {
        "colab": {
          "base_uri": "https://localhost:8080/"
        },
        "id": "Zv7f2xgV16Xo",
        "outputId": "744dc919-a3b6-436b-8bc1-16c423c8c3aa"
      },
      "execution_count": 7,
      "outputs": [
        {
          "output_type": "execute_result",
          "data": {
            "text/plain": [
              "array([[ 0.36138659, -0.08452251,  0.85667061,  0.3582892 ],\n",
              "       [ 0.65658877,  0.73016143, -0.17337266, -0.07548102]])"
            ]
          },
          "metadata": {},
          "execution_count": 7
        }
      ]
    },
    {
      "cell_type": "code",
      "source": [
        "pca.explained_variance_"
      ],
      "metadata": {
        "colab": {
          "base_uri": "https://localhost:8080/"
        },
        "id": "0dDKUbIx2raq",
        "outputId": "46277971-0aa8-4920-c8db-f867d10cd1aa"
      },
      "execution_count": 8,
      "outputs": [
        {
          "output_type": "execute_result",
          "data": {
            "text/plain": [
              "array([4.22824171, 0.24267075])"
            ]
          },
          "metadata": {},
          "execution_count": 8
        }
      ]
    },
    {
      "cell_type": "markdown",
      "source": [
        "## Plot"
      ],
      "metadata": {
        "id": "P292rGfD-ZNm"
      }
    },
    {
      "cell_type": "markdown",
      "source": [
        "To see what these numbers mean, let's visualize them as vectors over the input data, using the \"components\" to define the direction of the vector, and the \"explained variance\" to define the squared-length of the vector:\n"
      ],
      "metadata": {
        "id": "wIhZEqvH26bu"
      }
    },
    {
      "cell_type": "code",
      "source": [
        "import matplotlib.pyplot as plt\n",
        "import numpy as np\n",
        "%matplotlib inline\n",
        "\n",
        "# plot data\n",
        "plt.scatter(X_train[:, 0], X_train[:, 1], c='b', alpha=0.5)"
      ],
      "metadata": {
        "colab": {
          "base_uri": "https://localhost:8080/",
          "height": 287
        },
        "id": "-880lYC32y3X",
        "outputId": "6dee779c-500e-44b3-b3c3-285089599054"
      },
      "execution_count": 9,
      "outputs": [
        {
          "output_type": "execute_result",
          "data": {
            "text/plain": [
              "<matplotlib.collections.PathCollection at 0x7f8a5c88b1d0>"
            ]
          },
          "metadata": {},
          "execution_count": 9
        },
        {
          "output_type": "display_data",
          "data": {
            "text/plain": [
              "<Figure size 432x288 with 1 Axes>"
            ],
            "image/png": "[encoded data removed]"
          },
          "metadata": {
            "needs_background": "light"
          }
        }
      ]
    },
    {
      "cell_type": "code",
      "source": [
        "X_ = pca.transform(X_train)"
      ],
      "metadata": {
        "id": "lpHSBsaW5Kzx"
      },
      "execution_count": 10,
      "outputs": []
    },
    {
      "cell_type": "code",
      "source": [
        "plt.scatter(X_[:, 0], X_[:, 1], c=iris.target)\n",
        "plt.scatter([X_[10][0]], [X_[10][1]], s=[300], c=[\"b\"], alpha=0.5)"
      ],
      "metadata": {
        "colab": {
          "base_uri": "https://localhost:8080/",
          "height": 288
        },
        "id": "Fnm7GF3r5W0J",
        "outputId": "fb5c52a9-b308-4cb7-f25a-8e315824f49d"
      },
      "execution_count": 11,
      "outputs": [
        {
          "output_type": "execute_result",
          "data": {
            "text/plain": [
              "<matplotlib.collections.PathCollection at 0x7f8a5c3f0e10>"
            ]
          },
          "metadata": {},
          "execution_count": 11
        },
        {
          "output_type": "display_data",
          "data": {
            "text/plain": [
              "<Figure size 432x288 with 1 Axes>"
            ],
            "image/png": "[encoded data removed]"
          },
          "metadata": {
            "needs_background": "light"
          }
        }
      ]
    },
    {
      "cell_type": "code",
      "source": [
        "X_[:5, :]"
      ],
      "metadata": {
        "colab": {
          "base_uri": "https://localhost:8080/"
        },
        "id": "1RVAsUvp6cpw",
        "outputId": "5db11fd4-1410-4c2f-d4f1-993a808fc6b9"
      },
      "execution_count": 12,
      "outputs": [
        {
          "output_type": "execute_result",
          "data": {
            "text/plain": [
              "array([[-2.68412563,  0.31939725],\n",
              "       [-2.71414169, -0.17700123],\n",
              "       [-2.88899057, -0.14494943],\n",
              "       [-2.74534286, -0.31829898],\n",
              "       [-2.72871654,  0.32675451]])"
            ]
          },
          "metadata": {},
          "execution_count": 12
        }
      ]
    },
    {
      "cell_type": "markdown",
      "source": [
        "The transformed data has been reduced. To understand the effect of this dimensionality reduction, we can perform the inverse transform of this reduced data and plot it along with the original data:"
      ],
      "metadata": {
        "id": "owvUIrf8BgcN"
      }
    },
    {
      "cell_type": "code",
      "source": [
        "X_new = pca.inverse_transform(X_)\n",
        "plt.scatter(X_train[:, 0], X_train[:, 1], alpha=0.2)\n",
        "plt.scatter(X_new[:, 0], X_new[:, 1], alpha=0.8)\n",
        "plt.axis('equal');"
      ],
      "metadata": {
        "colab": {
          "base_uri": "https://localhost:8080/",
          "height": 270
        },
        "id": "d_zU3hFmBP1S",
        "outputId": "9b1405ed-5642-49f6-ccd1-38716b7a09a1"
      },
      "execution_count": 13,
      "outputs": [
        {
          "output_type": "display_data",
          "data": {
            "text/plain": [
              "<Figure size 432x288 with 1 Axes>"
            ],
            "image/png": "[encoded data removed]"
          },
          "metadata": {
            "needs_background": "light"
          }
        }
      ]
    }
  ]
}
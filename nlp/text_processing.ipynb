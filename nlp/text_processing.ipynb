{
  "nbformat": 4,
  "nbformat_minor": 0,
  "metadata": {
    "colab": {
      "name": "Text Processing.ipynb",
      "provenance": [],
      "collapsed_sections": []
    },
    "kernelspec": {
      "name": "python3",
      "display_name": "Python 3"
    },
    "language_info": {
      "name": "python"
    }
  },
  "cells": [
    {
      "cell_type": "code",
      "execution_count": 1,
      "metadata": {
        "id": "gztbrHb24_sK"
      },
      "outputs": [],
      "source": [
        "article = \"\"\" The Australian Government will contribute funding towards a new Financial Intermediary Fund (FIF) for pandemics which will be established at the World Bank, as part of our commitment to protecting against the impact of future pandemics.\n",
        "\n",
        "The contribution was announced by the Treasurer and the Minister for Health and Aged Care at the G20 Joint Finance and Health Ministers meeting last night.\n",
        "\n",
        "The fund is aimed at addressing gaps in national, regional, and global financing for pandemic prevention, preparedness, and response.\n",
        "\n",
        "The FIF brings together key financial and health institutions to address the risks of future pandemics to health and the global economy.\n",
        "\n",
        "Last night’s meeting marks the first time that Finance and Health Ministers have come together under Indonesia’s G20 presidency.\n",
        "\n",
        "In the wake of the COVID-19 pandemic, key independent health architecture reviews - including the Independent Panel for Pandemic Preparedness and Response and the G20 High-Level Independent Panel on Financing the Global Commons for Pandemic Preparedness and Response - identified major shortfalls in international financing for pandemic preparedness and response.\n",
        "\n",
        "The G20 has an important leadership role to play in mobilising political support and finance to address systemic financing gaps for pandemic preparedness and response and the Australian Government is pleased to be playing our part.\n",
        "\n",
        "Ministers considered progress by the World Health Organization and World Bank in establishing the fund.\n",
        "\n",
        "They also discussed the development of coordination arrangements between Ministers to strengthen collaboration and address gaps in financing of pandemic prevention, preparedness, and response.\n",
        "\n",
        "The pandemic has highlighted the weaknesses in the global health architecture and COVID-19 has also shown the disproportionate impact pandemics can have on the world’s most vulnerable.\n",
        "\n",
        "This commitment will help ensure that we are better placed to prevent the devastating economic and health consequences that arise from a global health crisis, and limit the impact were another to occur.\n",
        "\n",
        "The Australian Government is committed to working with the international community to end the acute phase of this pandemic, while also strengthening global health architecture to ensure all countries are better positioned to respond to the next pandemic. \"\"\""
      ]
    },
    {
      "cell_type": "code",
      "source": [
        "print(article)"
      ],
      "metadata": {
        "colab": {
          "base_uri": "https://localhost:8080/"
        },
        "id": "71yEqvQr5Wn4",
        "outputId": "3edc8359-7d5e-4cd5-faf9-5830e3edf0ba"
      },
      "execution_count": 2,
      "outputs": [
        {
          "output_type": "stream",
          "name": "stdout",
          "text": [
            " The Australian Government will contribute funding towards a new Financial Intermediary Fund (FIF) for pandemics which will be established at the World Bank, as part of our commitment to protecting against the impact of future pandemics.\n",
            "\n",
            "The contribution was announced by the Treasurer and the Minister for Health and Aged Care at the G20 Joint Finance and Health Ministers meeting last night.\n",
            "\n",
            "The fund is aimed at addressing gaps in national, regional, and global financing for pandemic prevention, preparedness, and response.\n",
            "\n",
            "The FIF brings together key financial and health institutions to address the risks of future pandemics to health and the global economy.\n",
            "\n",
            "Last night’s meeting marks the first time that Finance and Health Ministers have come together under Indonesia’s G20 presidency.\n",
            "\n",
            "In the wake of the COVID-19 pandemic, key independent health architecture reviews - including the Independent Panel for Pandemic Preparedness and Response and the G20 High-Level Independent Panel on Financing the Global Commons for Pandemic Preparedness and Response - identified major shortfalls in international financing for pandemic preparedness and response.\n",
            "\n",
            "The G20 has an important leadership role to play in mobilising political support and finance to address systemic financing gaps for pandemic preparedness and response and the Australian Government is pleased to be playing our part.\n",
            "\n",
            "Ministers considered progress by the World Health Organization and World Bank in establishing the fund.\n",
            "\n",
            "They also discussed the development of coordination arrangements between Ministers to strengthen collaboration and address gaps in financing of pandemic prevention, preparedness, and response.\n",
            "\n",
            "The pandemic has highlighted the weaknesses in the global health architecture and COVID-19 has also shown the disproportionate impact pandemics can have on the world’s most vulnerable.\n",
            "\n",
            "This commitment will help ensure that we are better placed to prevent the devastating economic and health consequences that arise from a global health crisis, and limit the impact were another to occur.\n",
            "\n",
            "The Australian Government is committed to working with the international community to end the acute phase of this pandemic, while also strengthening global health architecture to ensure all countries are better positioned to respond to the next pandemic. \n"
          ]
        }
      ]
    },
    {
      "cell_type": "code",
      "source": [
        "# Case Folding\n",
        "article = article.lower()\n",
        "print(article)"
      ],
      "metadata": {
        "colab": {
          "base_uri": "https://localhost:8080/"
        },
        "id": "g6f6lebo5dxq",
        "outputId": "a0c612fb-52e0-4391-bf28-6cbedda9458a"
      },
      "execution_count": 2,
      "outputs": [
        {
          "output_type": "stream",
          "name": "stdout",
          "text": [
            " the australian government will contribute funding towards a new financial intermediary fund (fif) for pandemics which will be established at the world bank, as part of our commitment to protecting against the impact of future pandemics.\n",
            "\n",
            "the contribution was announced by the treasurer and the minister for health and aged care at the g20 joint finance and health ministers meeting last night.\n",
            "\n",
            "the fund is aimed at addressing gaps in national, regional, and global financing for pandemic prevention, preparedness, and response.\n",
            "\n",
            "the fif brings together key financial and health institutions to address the risks of future pandemics to health and the global economy.\n",
            "\n",
            "last night’s meeting marks the first time that finance and health ministers have come together under indonesia’s g20 presidency.\n",
            "\n",
            "in the wake of the covid-19 pandemic, key independent health architecture reviews - including the independent panel for pandemic preparedness and response and the g20 high-level independent panel on financing the global commons for pandemic preparedness and response - identified major shortfalls in international financing for pandemic preparedness and response.\n",
            "\n",
            "the g20 has an important leadership role to play in mobilising political support and finance to address systemic financing gaps for pandemic preparedness and response and the australian government is pleased to be playing our part.\n",
            "\n",
            "ministers considered progress by the world health organization and world bank in establishing the fund.\n",
            "\n",
            "they also discussed the development of coordination arrangements between ministers to strengthen collaboration and address gaps in financing of pandemic prevention, preparedness, and response.\n",
            "\n",
            "the pandemic has highlighted the weaknesses in the global health architecture and covid-19 has also shown the disproportionate impact pandemics can have on the world’s most vulnerable.\n",
            "\n",
            "this commitment will help ensure that we are better placed to prevent the devastating economic and health consequences that arise from a global health crisis, and limit the impact were another to occur.\n",
            "\n",
            "the australian government is committed to working with the international community to end the acute phase of this pandemic, while also strengthening global health architecture to ensure all countries are better positioned to respond to the next pandemic. \n"
          ]
        }
      ]
    },
    {
      "cell_type": "code",
      "source": [
        "# Regex\n",
        "\n",
        "import re, string\n",
        "\n",
        "# Remove Digit\n",
        "article = re.sub(\n",
        "    pattern=r\"\\d+\",\n",
        "    repl=\"\", # replacement\n",
        "    string=article)\n",
        "\n",
        "# Remove Punctuation\n",
        "article = article.translate(str.maketrans(\"\",\"\",string.punctuation))\n",
        "print(article)\n"
      ],
      "metadata": {
        "colab": {
          "base_uri": "https://localhost:8080/"
        },
        "id": "9863xSGM5rLP",
        "outputId": "4b1e4379-54f4-4751-eb09-0319c973917e"
      },
      "execution_count": 3,
      "outputs": [
        {
          "output_type": "stream",
          "name": "stdout",
          "text": [
            " the australian government will contribute funding towards a new financial intermediary fund fif for pandemics which will be established at the world bank as part of our commitment to protecting against the impact of future pandemics\n",
            "\n",
            "the contribution was announced by the treasurer and the minister for health and aged care at the g joint finance and health ministers meeting last night\n",
            "\n",
            "the fund is aimed at addressing gaps in national regional and global financing for pandemic prevention preparedness and response\n",
            "\n",
            "the fif brings together key financial and health institutions to address the risks of future pandemics to health and the global economy\n",
            "\n",
            "last night’s meeting marks the first time that finance and health ministers have come together under indonesia’s g presidency\n",
            "\n",
            "in the wake of the covid pandemic key independent health architecture reviews  including the independent panel for pandemic preparedness and response and the g highlevel independent panel on financing the global commons for pandemic preparedness and response  identified major shortfalls in international financing for pandemic preparedness and response\n",
            "\n",
            "the g has an important leadership role to play in mobilising political support and finance to address systemic financing gaps for pandemic preparedness and response and the australian government is pleased to be playing our part\n",
            "\n",
            "ministers considered progress by the world health organization and world bank in establishing the fund\n",
            "\n",
            "they also discussed the development of coordination arrangements between ministers to strengthen collaboration and address gaps in financing of pandemic prevention preparedness and response\n",
            "\n",
            "the pandemic has highlighted the weaknesses in the global health architecture and covid has also shown the disproportionate impact pandemics can have on the world’s most vulnerable\n",
            "\n",
            "this commitment will help ensure that we are better placed to prevent the devastating economic and health consequences that arise from a global health crisis and limit the impact were another to occur\n",
            "\n",
            "the australian government is committed to working with the international community to end the acute phase of this pandemic while also strengthening global health architecture to ensure all countries are better positioned to respond to the next pandemic \n"
          ]
        }
      ]
    },
    {
      "cell_type": "markdown",
      "source": [
        "**maketrans()** creates a mapping of the character's Unicode ordinal to its corresponding translation.\n",
        "...."
      ],
      "metadata": {
        "id": "H4c_Vl589_CF"
      }
    },
    {
      "cell_type": "markdown",
      "source": [
        "## Stopwords\n",
        "Commonly used word that has no much meaning to a sentence so it can be ignored safely such as 'the', 'and', 'a', 'I', 'or'..."
      ],
      "metadata": {
        "id": "POMDvzAs-ajK"
      }
    },
    {
      "cell_type": "code",
      "source": [
        "# Stopword Removal\n",
        "import nltk\n",
        "from nltk.corpus import stopwords\n",
        "\n",
        "# Download package punctuation nltk\n",
        "nltk.download('punkt')\n",
        "\n",
        "# Download nltk stopwords\n",
        "nltk.download('stopwords')\n",
        "\n",
        "# Tokenize\n",
        "tokens = nltk.tokenize.word_tokenize(article)\n",
        "print(tokens)"
      ],
      "metadata": {
        "colab": {
          "base_uri": "https://localhost:8080/"
        },
        "id": "08cRliFo82eg",
        "outputId": "cc9b3299-a3ad-4bbd-de9c-c9438f220ae2"
      },
      "execution_count": 9,
      "outputs": [
        {
          "output_type": "stream",
          "name": "stdout",
          "text": [
            "['the', 'australian', 'government', 'will', 'contribute', 'funding', 'towards', 'a', 'new', 'financial', 'intermediary', 'fund', 'fif', 'for', 'pandemics', 'which', 'will', 'be', 'established', 'at', 'the', 'world', 'bank', 'as', 'part', 'of', 'our', 'commitment', 'to', 'protecting', 'against', 'the', 'impact', 'of', 'future', 'pandemics', 'the', 'contribution', 'was', 'announced', 'by', 'the', 'treasurer', 'and', 'the', 'minister', 'for', 'health', 'and', 'aged', 'care', 'at', 'the', 'g', 'joint', 'finance', 'and', 'health', 'ministers', 'meeting', 'last', 'night', 'the', 'fund', 'is', 'aimed', 'at', 'addressing', 'gaps', 'in', 'national', 'regional', 'and', 'global', 'financing', 'for', 'pandemic', 'prevention', 'preparedness', 'and', 'response', 'the', 'fif', 'brings', 'together', 'key', 'financial', 'and', 'health', 'institutions', 'to', 'address', 'the', 'risks', 'of', 'future', 'pandemics', 'to', 'health', 'and', 'the', 'global', 'economy', 'last', 'night', '’', 's', 'meeting', 'marks', 'the', 'first', 'time', 'that', 'finance', 'and', 'health', 'ministers', 'have', 'come', 'together', 'under', 'indonesia', '’', 's', 'g', 'presidency', 'in', 'the', 'wake', 'of', 'the', 'covid', 'pandemic', 'key', 'independent', 'health', 'architecture', 'reviews', 'including', 'the', 'independent', 'panel', 'for', 'pandemic', 'preparedness', 'and', 'response', 'and', 'the', 'g', 'highlevel', 'independent', 'panel', 'on', 'financing', 'the', 'global', 'commons', 'for', 'pandemic', 'preparedness', 'and', 'response', 'identified', 'major', 'shortfalls', 'in', 'international', 'financing', 'for', 'pandemic', 'preparedness', 'and', 'response', 'the', 'g', 'has', 'an', 'important', 'leadership', 'role', 'to', 'play', 'in', 'mobilising', 'political', 'support', 'and', 'finance', 'to', 'address', 'systemic', 'financing', 'gaps', 'for', 'pandemic', 'preparedness', 'and', 'response', 'and', 'the', 'australian', 'government', 'is', 'pleased', 'to', 'be', 'playing', 'our', 'part', 'ministers', 'considered', 'progress', 'by', 'the', 'world', 'health', 'organization', 'and', 'world', 'bank', 'in', 'establishing', 'the', 'fund', 'they', 'also', 'discussed', 'the', 'development', 'of', 'coordination', 'arrangements', 'between', 'ministers', 'to', 'strengthen', 'collaboration', 'and', 'address', 'gaps', 'in', 'financing', 'of', 'pandemic', 'prevention', 'preparedness', 'and', 'response', 'the', 'pandemic', 'has', 'highlighted', 'the', 'weaknesses', 'in', 'the', 'global', 'health', 'architecture', 'and', 'covid', 'has', 'also', 'shown', 'the', 'disproportionate', 'impact', 'pandemics', 'can', 'have', 'on', 'the', 'world', '’', 's', 'most', 'vulnerable', 'this', 'commitment', 'will', 'help', 'ensure', 'that', 'we', 'are', 'better', 'placed', 'to', 'prevent', 'the', 'devastating', 'economic', 'and', 'health', 'consequences', 'that', 'arise', 'from', 'a', 'global', 'health', 'crisis', 'and', 'limit', 'the', 'impact', 'were', 'another', 'to', 'occur', 'the', 'australian', 'government', 'is', 'committed', 'to', 'working', 'with', 'the', 'international', 'community', 'to', 'end', 'the', 'acute', 'phase', 'of', 'this', 'pandemic', 'while', 'also', 'strengthening', 'global', 'health', 'architecture', 'to', 'ensure', 'all', 'countries', 'are', 'better', 'positioned', 'to', 'respond', 'to', 'the', 'next', 'pandemic']\n"
          ]
        },
        {
          "output_type": "stream",
          "name": "stderr",
          "text": [
            "[nltk_data] Downloading package punkt to /root/nltk_data...\n",
            "[nltk_data]   Package punkt is already up-to-date!\n",
            "[nltk_data] Downloading package stopwords to /root/nltk_data...\n",
            "[nltk_data]   Package stopwords is already up-to-date!\n"
          ]
        }
      ]
    },
    {
      "cell_type": "code",
      "source": [
        "# English stopwords\n",
        "stopwords_set = set(stopwords.words('english'))\n",
        "print(stopwords_set)"
      ],
      "metadata": {
        "colab": {
          "base_uri": "https://localhost:8080/"
        },
        "id": "YYcoSU0FKKkm",
        "outputId": "5fb69958-8148-40a8-9350-b070424669fb"
      },
      "execution_count": 9,
      "outputs": [
        {
          "output_type": "stream",
          "name": "stdout",
          "text": [
            "{'you', 'has', 'who', 'haven', 'them', 'by', 'hasn', 'as', 'our', \"should've\", \"needn't\", 'into', 'now', 'it', 'having', 'she', 'he', 'y', 'won', \"aren't\", 'to', 'are', 'just', 'm', 'both', 'at', \"isn't\", 'him', 'against', 'your', 'out', 'under', 'an', 'his', 'after', \"doesn't\", 'yourself', 'no', 'will', 'needn', 'himself', 'here', 'with', 'this', 'been', \"hadn't\", \"she's\", 'nor', 'am', 'from', 'few', 'other', 'doesn', 'll', 'being', 'mightn', 'don', 'they', 'does', 'a', 'is', 'up', 'i', 'can', 'herself', 'ain', 't', 'myself', 'why', 'any', 'hadn', 'ourselves', 'because', \"you'll\", 'such', \"that'll\", 's', 'had', 'her', 'then', 'd', 'very', 'the', 'during', 'over', \"mightn't\", 'all', 'me', 'once', \"shan't\", \"didn't\", 're', 'when', 'doing', 'isn', 'there', 'about', \"it's\", 'in', 'and', 'where', \"couldn't\", 'itself', 'but', 'do', 'further', \"mustn't\", \"wasn't\", 'aren', 'ma', 'yourselves', 'wasn', 'yours', 'down', 'more', \"haven't\", 'themselves', 'again', 'have', 'off', 've', 'we', 'hers', 'through', 'each', 'on', 'for', \"shouldn't\", \"weren't\", 'theirs', 'didn', 'whom', 'shan', 'not', 'ours', 'its', 'those', 'than', 'which', 'o', 'was', \"don't\", 'own', 'be', 'some', 'only', \"won't\", 'below', 'were', 'that', 'most', 'weren', 'did', \"you're\", 'above', 'or', 'my', 'what', 'while', 'of', 'shouldn', 'until', 'too', 'should', 'if', 'between', \"you've\", \"wouldn't\", 'how', 'these', \"you'd\", 'mustn', 'couldn', 'same', 'so', \"hasn't\", 'their', 'before', 'wouldn'}\n"
          ]
        }
      ]
    },
    {
      "cell_type": "code",
      "source": [
        "# ouput tokens after removing stopword\n",
        "token_after = []\n",
        "token_stopword = []\n",
        "\n",
        "for token in tokens:\n",
        "  if token in stopwords_set:\n",
        "    token_stopword.append(token)\n",
        "  else:\n",
        "    token_after.append(token)\n",
        "\n",
        "print('token : ', token_after)\n",
        "print('article_stopwords : ', token_stopword)"
      ],
      "metadata": {
        "colab": {
          "base_uri": "https://localhost:8080/"
        },
        "id": "7YQRpm6XKtVC",
        "outputId": "dc8f3b39-5052-4f01-cdca-3f19de944b0c"
      },
      "execution_count": 11,
      "outputs": [
        {
          "output_type": "stream",
          "name": "stdout",
          "text": [
            "token :  ['australian', 'government', 'contribute', 'funding', 'towards', 'new', 'financial', 'intermediary', 'fund', 'fif', 'pandemics', 'established', 'world', 'bank', 'part', 'commitment', 'protecting', 'impact', 'future', 'pandemics', 'contribution', 'announced', 'treasurer', 'minister', 'health', 'aged', 'care', 'g', 'joint', 'finance', 'health', 'ministers', 'meeting', 'last', 'night', 'fund', 'aimed', 'addressing', 'gaps', 'national', 'regional', 'global', 'financing', 'pandemic', 'prevention', 'preparedness', 'response', 'fif', 'brings', 'together', 'key', 'financial', 'health', 'institutions', 'address', 'risks', 'future', 'pandemics', 'health', 'global', 'economy', 'last', 'night', '’', 'meeting', 'marks', 'first', 'time', 'finance', 'health', 'ministers', 'come', 'together', 'indonesia', '’', 'g', 'presidency', 'wake', 'covid', 'pandemic', 'key', 'independent', 'health', 'architecture', 'reviews', 'including', 'independent', 'panel', 'pandemic', 'preparedness', 'response', 'g', 'highlevel', 'independent', 'panel', 'financing', 'global', 'commons', 'pandemic', 'preparedness', 'response', 'identified', 'major', 'shortfalls', 'international', 'financing', 'pandemic', 'preparedness', 'response', 'g', 'important', 'leadership', 'role', 'play', 'mobilising', 'political', 'support', 'finance', 'address', 'systemic', 'financing', 'gaps', 'pandemic', 'preparedness', 'response', 'australian', 'government', 'pleased', 'playing', 'part', 'ministers', 'considered', 'progress', 'world', 'health', 'organization', 'world', 'bank', 'establishing', 'fund', 'also', 'discussed', 'development', 'coordination', 'arrangements', 'ministers', 'strengthen', 'collaboration', 'address', 'gaps', 'financing', 'pandemic', 'prevention', 'preparedness', 'response', 'pandemic', 'highlighted', 'weaknesses', 'global', 'health', 'architecture', 'covid', 'also', 'shown', 'disproportionate', 'impact', 'pandemics', 'world', '’', 'vulnerable', 'commitment', 'help', 'ensure', 'better', 'placed', 'prevent', 'devastating', 'economic', 'health', 'consequences', 'arise', 'global', 'health', 'crisis', 'limit', 'impact', 'another', 'occur', 'australian', 'government', 'committed', 'working', 'international', 'community', 'end', 'acute', 'phase', 'pandemic', 'also', 'strengthening', 'global', 'health', 'architecture', 'ensure', 'countries', 'better', 'positioned', 'respond', 'next', 'pandemic']\n",
            "article_stopwords :  ['the', 'will', 'a', 'for', 'which', 'will', 'be', 'at', 'the', 'as', 'of', 'our', 'to', 'against', 'the', 'of', 'the', 'was', 'by', 'the', 'and', 'the', 'for', 'and', 'at', 'the', 'and', 'the', 'is', 'at', 'in', 'and', 'for', 'and', 'the', 'and', 'to', 'the', 'of', 'to', 'and', 'the', 's', 'the', 'that', 'and', 'have', 'under', 's', 'in', 'the', 'of', 'the', 'the', 'for', 'and', 'and', 'the', 'on', 'the', 'for', 'and', 'in', 'for', 'and', 'the', 'has', 'an', 'to', 'in', 'and', 'to', 'for', 'and', 'and', 'the', 'is', 'to', 'be', 'our', 'by', 'the', 'and', 'in', 'the', 'they', 'the', 'of', 'between', 'to', 'and', 'in', 'of', 'and', 'the', 'has', 'the', 'in', 'the', 'and', 'has', 'the', 'can', 'have', 'on', 'the', 's', 'most', 'this', 'will', 'that', 'we', 'are', 'to', 'the', 'and', 'that', 'from', 'a', 'and', 'the', 'were', 'to', 'the', 'is', 'to', 'with', 'the', 'to', 'the', 'of', 'this', 'while', 'to', 'all', 'are', 'to', 'to', 'the']\n"
          ]
        }
      ]
    },
    {
      "cell_type": "markdown",
      "source": [
        "## Stemming & Lemmatization\n",
        "Reducing a word to its word stem that affixes to suffixes and prefixes or to the roots of words known as a lemma.\n",
        "\n",
        "i.e Vaccination -> Vaccin, Playing -> Play\n",
        "\n"
      ],
      "metadata": {
        "id": "oZD-_5OQLb_P"
      }
    },
    {
      "cell_type": "code",
      "source": [
        "from nltk.stem import PorterStemmer, WordNetLemmatizer\n",
        "\n",
        "# Download WordNet\n",
        "nltk.download('wordnet')\n",
        "nltk.download('omw-1.4')\n",
        "\n",
        "porter = PorterStemmer()\n",
        "stemming_result = [porter.stem(word) for word in token_after]\n",
        "print(stemming_result) # remove suffix/prefix\n",
        "\n",
        "word_lemmatizer = WordNetLemmatizer()\n",
        "lemma_result = [word_lemmatizer.lemmatize(word) for word in token_after]\n",
        "print(lemma_result) # Change it back to its root"
      ],
      "metadata": {
        "colab": {
          "base_uri": "https://localhost:8080/"
        },
        "id": "uyxxae-OLZUj",
        "outputId": "7e02de92-a541-45f1-c96e-f6b5d9263000"
      },
      "execution_count": 14,
      "outputs": [
        {
          "output_type": "stream",
          "name": "stderr",
          "text": [
            "[nltk_data] Downloading package wordnet to /root/nltk_data...\n",
            "[nltk_data]   Unzipping corpora/wordnet.zip.\n",
            "[nltk_data] Downloading package omw-1.4 to /root/nltk_data...\n",
            "[nltk_data]   Unzipping corpora/omw-1.4.zip.\n"
          ]
        },
        {
          "output_type": "stream",
          "name": "stdout",
          "text": [
            "['australian', 'govern', 'contribut', 'fund', 'toward', 'new', 'financi', 'intermediari', 'fund', 'fif', 'pandem', 'establish', 'world', 'bank', 'part', 'commit', 'protect', 'impact', 'futur', 'pandem', 'contribut', 'announc', 'treasur', 'minist', 'health', 'age', 'care', 'g', 'joint', 'financ', 'health', 'minist', 'meet', 'last', 'night', 'fund', 'aim', 'address', 'gap', 'nation', 'region', 'global', 'financ', 'pandem', 'prevent', 'prepared', 'respons', 'fif', 'bring', 'togeth', 'key', 'financi', 'health', 'institut', 'address', 'risk', 'futur', 'pandem', 'health', 'global', 'economi', 'last', 'night', '’', 'meet', 'mark', 'first', 'time', 'financ', 'health', 'minist', 'come', 'togeth', 'indonesia', '’', 'g', 'presid', 'wake', 'covid', 'pandem', 'key', 'independ', 'health', 'architectur', 'review', 'includ', 'independ', 'panel', 'pandem', 'prepared', 'respons', 'g', 'highlevel', 'independ', 'panel', 'financ', 'global', 'common', 'pandem', 'prepared', 'respons', 'identifi', 'major', 'shortfal', 'intern', 'financ', 'pandem', 'prepared', 'respons', 'g', 'import', 'leadership', 'role', 'play', 'mobilis', 'polit', 'support', 'financ', 'address', 'system', 'financ', 'gap', 'pandem', 'prepared', 'respons', 'australian', 'govern', 'pleas', 'play', 'part', 'minist', 'consid', 'progress', 'world', 'health', 'organ', 'world', 'bank', 'establish', 'fund', 'also', 'discuss', 'develop', 'coordin', 'arrang', 'minist', 'strengthen', 'collabor', 'address', 'gap', 'financ', 'pandem', 'prevent', 'prepared', 'respons', 'pandem', 'highlight', 'weak', 'global', 'health', 'architectur', 'covid', 'also', 'shown', 'disproportion', 'impact', 'pandem', 'world', '’', 'vulner', 'commit', 'help', 'ensur', 'better', 'place', 'prevent', 'devast', 'econom', 'health', 'consequ', 'aris', 'global', 'health', 'crisi', 'limit', 'impact', 'anoth', 'occur', 'australian', 'govern', 'commit', 'work', 'intern', 'commun', 'end', 'acut', 'phase', 'pandem', 'also', 'strengthen', 'global', 'health', 'architectur', 'ensur', 'countri', 'better', 'posit', 'respond', 'next', 'pandem']\n",
            "['australian', 'government', 'contribute', 'funding', 'towards', 'new', 'financial', 'intermediary', 'fund', 'fif', 'pandemic', 'established', 'world', 'bank', 'part', 'commitment', 'protecting', 'impact', 'future', 'pandemic', 'contribution', 'announced', 'treasurer', 'minister', 'health', 'aged', 'care', 'g', 'joint', 'finance', 'health', 'minister', 'meeting', 'last', 'night', 'fund', 'aimed', 'addressing', 'gap', 'national', 'regional', 'global', 'financing', 'pandemic', 'prevention', 'preparedness', 'response', 'fif', 'brings', 'together', 'key', 'financial', 'health', 'institution', 'address', 'risk', 'future', 'pandemic', 'health', 'global', 'economy', 'last', 'night', '’', 'meeting', 'mark', 'first', 'time', 'finance', 'health', 'minister', 'come', 'together', 'indonesia', '’', 'g', 'presidency', 'wake', 'covid', 'pandemic', 'key', 'independent', 'health', 'architecture', 'review', 'including', 'independent', 'panel', 'pandemic', 'preparedness', 'response', 'g', 'highlevel', 'independent', 'panel', 'financing', 'global', 'common', 'pandemic', 'preparedness', 'response', 'identified', 'major', 'shortfall', 'international', 'financing', 'pandemic', 'preparedness', 'response', 'g', 'important', 'leadership', 'role', 'play', 'mobilising', 'political', 'support', 'finance', 'address', 'systemic', 'financing', 'gap', 'pandemic', 'preparedness', 'response', 'australian', 'government', 'pleased', 'playing', 'part', 'minister', 'considered', 'progress', 'world', 'health', 'organization', 'world', 'bank', 'establishing', 'fund', 'also', 'discussed', 'development', 'coordination', 'arrangement', 'minister', 'strengthen', 'collaboration', 'address', 'gap', 'financing', 'pandemic', 'prevention', 'preparedness', 'response', 'pandemic', 'highlighted', 'weakness', 'global', 'health', 'architecture', 'covid', 'also', 'shown', 'disproportionate', 'impact', 'pandemic', 'world', '’', 'vulnerable', 'commitment', 'help', 'ensure', 'better', 'placed', 'prevent', 'devastating', 'economic', 'health', 'consequence', 'arise', 'global', 'health', 'crisis', 'limit', 'impact', 'another', 'occur', 'australian', 'government', 'committed', 'working', 'international', 'community', 'end', 'acute', 'phase', 'pandemic', 'also', 'strengthening', 'global', 'health', 'architecture', 'ensure', 'country', 'better', 'positioned', 'respond', 'next', 'pandemic']\n"
          ]
        }
      ]
    },
    {
      "cell_type": "markdown",
      "source": [
        "## Post Tagging"
      ],
      "metadata": {
        "id": "1Q5X0BvVOWz8"
      }
    },
    {
      "cell_type": "code",
      "source": [
        "from nltk.tag import pos_tag\n",
        "\n",
        "# Download tagger\n",
        "nltk.download('averaged_perceptron_tagger')\n",
        "\n",
        "tagged_word = nltk.pos_tag(tokens)\n",
        "print(tagged_word)"
      ],
      "metadata": {
        "colab": {
          "base_uri": "https://localhost:8080/"
        },
        "id": "XD46UkDsOZKN",
        "outputId": "2773b54b-24be-47b0-f027-54f71a8910ba"
      },
      "execution_count": 12,
      "outputs": [
        {
          "output_type": "stream",
          "name": "stderr",
          "text": [
            "[nltk_data] Downloading package averaged_perceptron_tagger to\n",
            "[nltk_data]     /root/nltk_data...\n",
            "[nltk_data]   Package averaged_perceptron_tagger is already up-to-\n",
            "[nltk_data]       date!\n"
          ]
        },
        {
          "output_type": "stream",
          "name": "stdout",
          "text": [
            "[('the', 'DT'), ('australian', 'JJ'), ('government', 'NN'), ('will', 'MD'), ('contribute', 'VB'), ('funding', 'NN'), ('towards', 'NNS'), ('a', 'DT'), ('new', 'JJ'), ('financial', 'JJ'), ('intermediary', 'JJ'), ('fund', 'NN'), ('fif', 'NN'), ('for', 'IN'), ('pandemics', 'NNS'), ('which', 'WDT'), ('will', 'MD'), ('be', 'VB'), ('established', 'VBN'), ('at', 'IN'), ('the', 'DT'), ('world', 'NN'), ('bank', 'NN'), ('as', 'IN'), ('part', 'NN'), ('of', 'IN'), ('our', 'PRP$'), ('commitment', 'NN'), ('to', 'TO'), ('protecting', 'VBG'), ('against', 'IN'), ('the', 'DT'), ('impact', 'NN'), ('of', 'IN'), ('future', 'JJ'), ('pandemics', 'NNS'), ('the', 'DT'), ('contribution', 'NN'), ('was', 'VBD'), ('announced', 'VBN'), ('by', 'IN'), ('the', 'DT'), ('treasurer', 'NN'), ('and', 'CC'), ('the', 'DT'), ('minister', 'NN'), ('for', 'IN'), ('health', 'NN'), ('and', 'CC'), ('aged', 'VBN'), ('care', 'NN'), ('at', 'IN'), ('the', 'DT'), ('g', 'NN'), ('joint', 'NN'), ('finance', 'NN'), ('and', 'CC'), ('health', 'NN'), ('ministers', 'NNS'), ('meeting', 'VBG'), ('last', 'JJ'), ('night', 'NN'), ('the', 'DT'), ('fund', 'NN'), ('is', 'VBZ'), ('aimed', 'VBN'), ('at', 'IN'), ('addressing', 'VBG'), ('gaps', 'NNS'), ('in', 'IN'), ('national', 'JJ'), ('regional', 'JJ'), ('and', 'CC'), ('global', 'JJ'), ('financing', 'NN'), ('for', 'IN'), ('pandemic', 'JJ'), ('prevention', 'NN'), ('preparedness', 'NN'), ('and', 'CC'), ('response', 'NN'), ('the', 'DT'), ('fif', 'JJ'), ('brings', 'VBZ'), ('together', 'RB'), ('key', 'JJ'), ('financial', 'JJ'), ('and', 'CC'), ('health', 'NN'), ('institutions', 'NNS'), ('to', 'TO'), ('address', 'VB'), ('the', 'DT'), ('risks', 'NNS'), ('of', 'IN'), ('future', 'JJ'), ('pandemics', 'NNS'), ('to', 'TO'), ('health', 'NN'), ('and', 'CC'), ('the', 'DT'), ('global', 'JJ'), ('economy', 'NN'), ('last', 'JJ'), ('night', 'NN'), ('’', 'NNP'), ('s', 'NN'), ('meeting', 'NN'), ('marks', 'VBZ'), ('the', 'DT'), ('first', 'JJ'), ('time', 'NN'), ('that', 'WDT'), ('finance', 'NN'), ('and', 'CC'), ('health', 'NN'), ('ministers', 'NNS'), ('have', 'VBP'), ('come', 'VBN'), ('together', 'RB'), ('under', 'IN'), ('indonesia', 'NN'), ('’', 'NNP'), ('s', 'NN'), ('g', 'NN'), ('presidency', 'NN'), ('in', 'IN'), ('the', 'DT'), ('wake', 'NN'), ('of', 'IN'), ('the', 'DT'), ('covid', 'JJ'), ('pandemic', 'JJ'), ('key', 'JJ'), ('independent', 'JJ'), ('health', 'NN'), ('architecture', 'NN'), ('reviews', 'VBZ'), ('including', 'VBG'), ('the', 'DT'), ('independent', 'JJ'), ('panel', 'NN'), ('for', 'IN'), ('pandemic', 'JJ'), ('preparedness', 'NN'), ('and', 'CC'), ('response', 'NN'), ('and', 'CC'), ('the', 'DT'), ('g', 'NN'), ('highlevel', 'NN'), ('independent', 'JJ'), ('panel', 'NN'), ('on', 'IN'), ('financing', 'VBG'), ('the', 'DT'), ('global', 'JJ'), ('commons', 'NNS'), ('for', 'IN'), ('pandemic', 'JJ'), ('preparedness', 'NN'), ('and', 'CC'), ('response', 'NN'), ('identified', 'VBD'), ('major', 'JJ'), ('shortfalls', 'NNS'), ('in', 'IN'), ('international', 'JJ'), ('financing', 'NN'), ('for', 'IN'), ('pandemic', 'JJ'), ('preparedness', 'NN'), ('and', 'CC'), ('response', 'NN'), ('the', 'DT'), ('g', 'NN'), ('has', 'VBZ'), ('an', 'DT'), ('important', 'JJ'), ('leadership', 'NN'), ('role', 'NN'), ('to', 'TO'), ('play', 'VB'), ('in', 'IN'), ('mobilising', 'VBG'), ('political', 'JJ'), ('support', 'NN'), ('and', 'CC'), ('finance', 'NN'), ('to', 'TO'), ('address', 'VB'), ('systemic', 'JJ'), ('financing', 'NN'), ('gaps', 'NNS'), ('for', 'IN'), ('pandemic', 'JJ'), ('preparedness', 'NN'), ('and', 'CC'), ('response', 'NN'), ('and', 'CC'), ('the', 'DT'), ('australian', 'JJ'), ('government', 'NN'), ('is', 'VBZ'), ('pleased', 'VBN'), ('to', 'TO'), ('be', 'VB'), ('playing', 'VBG'), ('our', 'PRP$'), ('part', 'NN'), ('ministers', 'NNS'), ('considered', 'VBN'), ('progress', 'NN'), ('by', 'IN'), ('the', 'DT'), ('world', 'NN'), ('health', 'NN'), ('organization', 'NN'), ('and', 'CC'), ('world', 'NN'), ('bank', 'NN'), ('in', 'IN'), ('establishing', 'VBG'), ('the', 'DT'), ('fund', 'NN'), ('they', 'PRP'), ('also', 'RB'), ('discussed', 'VBD'), ('the', 'DT'), ('development', 'NN'), ('of', 'IN'), ('coordination', 'NN'), ('arrangements', 'NNS'), ('between', 'IN'), ('ministers', 'NNS'), ('to', 'TO'), ('strengthen', 'VB'), ('collaboration', 'NN'), ('and', 'CC'), ('address', 'NN'), ('gaps', 'NNS'), ('in', 'IN'), ('financing', 'NN'), ('of', 'IN'), ('pandemic', 'JJ'), ('prevention', 'NN'), ('preparedness', 'NN'), ('and', 'CC'), ('response', 'NN'), ('the', 'DT'), ('pandemic', 'NN'), ('has', 'VBZ'), ('highlighted', 'VBN'), ('the', 'DT'), ('weaknesses', 'NNS'), ('in', 'IN'), ('the', 'DT'), ('global', 'JJ'), ('health', 'NN'), ('architecture', 'NN'), ('and', 'CC'), ('covid', 'NN'), ('has', 'VBZ'), ('also', 'RB'), ('shown', 'VBN'), ('the', 'DT'), ('disproportionate', 'JJ'), ('impact', 'NN'), ('pandemics', 'NNS'), ('can', 'MD'), ('have', 'VB'), ('on', 'IN'), ('the', 'DT'), ('world', 'NN'), ('’', 'NNP'), ('s', 'VBZ'), ('most', 'RBS'), ('vulnerable', 'JJ'), ('this', 'DT'), ('commitment', 'NN'), ('will', 'MD'), ('help', 'VB'), ('ensure', 'VB'), ('that', 'IN'), ('we', 'PRP'), ('are', 'VBP'), ('better', 'RB'), ('placed', 'VBN'), ('to', 'TO'), ('prevent', 'VB'), ('the', 'DT'), ('devastating', 'JJ'), ('economic', 'JJ'), ('and', 'CC'), ('health', 'NN'), ('consequences', 'NNS'), ('that', 'WDT'), ('arise', 'VBP'), ('from', 'IN'), ('a', 'DT'), ('global', 'JJ'), ('health', 'NN'), ('crisis', 'NN'), ('and', 'CC'), ('limit', 'VB'), ('the', 'DT'), ('impact', 'NN'), ('were', 'VBD'), ('another', 'DT'), ('to', 'TO'), ('occur', 'VB'), ('the', 'DT'), ('australian', 'JJ'), ('government', 'NN'), ('is', 'VBZ'), ('committed', 'VBN'), ('to', 'TO'), ('working', 'VBG'), ('with', 'IN'), ('the', 'DT'), ('international', 'JJ'), ('community', 'NN'), ('to', 'TO'), ('end', 'VB'), ('the', 'DT'), ('acute', 'JJ'), ('phase', 'NN'), ('of', 'IN'), ('this', 'DT'), ('pandemic', 'NN'), ('while', 'IN'), ('also', 'RB'), ('strengthening', 'VBG'), ('global', 'JJ'), ('health', 'NN'), ('architecture', 'NN'), ('to', 'TO'), ('ensure', 'VB'), ('all', 'DT'), ('countries', 'NNS'), ('are', 'VBP'), ('better', 'RB'), ('positioned', 'VBN'), ('to', 'TO'), ('respond', 'VB'), ('to', 'TO'), ('the', 'DT'), ('next', 'JJ'), ('pandemic', 'NN')]\n"
          ]
        }
      ]
    }
  ]
}